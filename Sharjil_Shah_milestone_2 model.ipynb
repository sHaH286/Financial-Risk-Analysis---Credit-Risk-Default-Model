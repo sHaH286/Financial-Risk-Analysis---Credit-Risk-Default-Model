{
 "cells": [
  {
   "cell_type": "code",
   "execution_count": 13,
   "id": "b0852323",
   "metadata": {},
   "outputs": [],
   "source": [
    "import numpy as np \n",
    "import pandas as pd \n",
    "import seaborn as sns\n",
    "import matplotlib.pyplot as plt\n",
    "%matplotlib inline\n",
    "\n",
    "import scipy.stats as stats\n",
    "from sklearn.preprocessing import StandardScaler\n",
    "from sklearn.model_selection import GridSearchCV\n",
    "\n",
    "from sklearn import metrics\n",
    "from sklearn.linear_model import LogisticRegression\n",
    "from sklearn.discriminant_analysis import LinearDiscriminantAnalysis\n",
    "from sklearn.ensemble import RandomForestRegressor\n",
    "from sklearn.ensemble import RandomForestClassifier\n",
    "\n",
    "from sklearn.feature_selection import RFE\n",
    "from sklearn.model_selection import cross_validate\n",
    "import statsmodels.formula.api as SM\n",
    "from sklearn.metrics import r2_score\n",
    "from sklearn.metrics import mean_squared_error\n",
    "from statsmodels.stats.outliers_influence import variance_inflation_factor\n",
    "\n",
    "from sklearn.metrics import roc_auc_score,roc_curve,classification_report,confusion_matrix\n",
    "import os\n",
    "import warnings\n",
    "warnings.filterwarnings('ignore')"
   ]
  },
  {
   "cell_type": "code",
   "execution_count": 14,
   "id": "12db7361",
   "metadata": {},
   "outputs": [],
   "source": [
    "df = pd.read_excel('Company_Data2015-1.xlsx')"
   ]
  },
  {
   "cell_type": "code",
   "execution_count": 15,
   "id": "1eebb772",
   "metadata": {},
   "outputs": [
    {
     "data": {
      "text/html": [
       "<div>\n",
       "<style scoped>\n",
       "    .dataframe tbody tr th:only-of-type {\n",
       "        vertical-align: middle;\n",
       "    }\n",
       "\n",
       "    .dataframe tbody tr th {\n",
       "        vertical-align: top;\n",
       "    }\n",
       "\n",
       "    .dataframe thead th {\n",
       "        text-align: right;\n",
       "    }\n",
       "</style>\n",
       "<table border=\"1\" class=\"dataframe\">\n",
       "  <thead>\n",
       "    <tr style=\"text-align: right;\">\n",
       "      <th></th>\n",
       "      <th>Co_Code</th>\n",
       "      <th>Co_Name</th>\n",
       "      <th>Networth Next Year</th>\n",
       "      <th>Equity Paid Up</th>\n",
       "      <th>Networth</th>\n",
       "      <th>Capital Employed</th>\n",
       "      <th>Total Debt</th>\n",
       "      <th>Gross Block</th>\n",
       "      <th>Net Working Capital</th>\n",
       "      <th>Current Assets</th>\n",
       "      <th>...</th>\n",
       "      <th>PBIDTM (%)[Latest]</th>\n",
       "      <th>PBITM (%)[Latest]</th>\n",
       "      <th>PBDTM (%)[Latest]</th>\n",
       "      <th>CPM (%)[Latest]</th>\n",
       "      <th>APATM (%)[Latest]</th>\n",
       "      <th>Debtors Velocity (Days)</th>\n",
       "      <th>Creditors Velocity (Days)</th>\n",
       "      <th>Inventory Velocity (Days)</th>\n",
       "      <th>Value of Output/Total Assets</th>\n",
       "      <th>Value of Output/Gross Block</th>\n",
       "    </tr>\n",
       "  </thead>\n",
       "  <tbody>\n",
       "    <tr>\n",
       "      <th>0</th>\n",
       "      <td>16974</td>\n",
       "      <td>Hind.Cables</td>\n",
       "      <td>-8021.60</td>\n",
       "      <td>419.36</td>\n",
       "      <td>-7027.48</td>\n",
       "      <td>-1007.24</td>\n",
       "      <td>5936.03</td>\n",
       "      <td>474.30</td>\n",
       "      <td>-1076.34</td>\n",
       "      <td>40.50</td>\n",
       "      <td>...</td>\n",
       "      <td>0.00</td>\n",
       "      <td>0.00</td>\n",
       "      <td>0.00</td>\n",
       "      <td>0.00</td>\n",
       "      <td>0.00</td>\n",
       "      <td>0</td>\n",
       "      <td>0</td>\n",
       "      <td>45.0</td>\n",
       "      <td>0.00</td>\n",
       "      <td>0.00</td>\n",
       "    </tr>\n",
       "    <tr>\n",
       "      <th>1</th>\n",
       "      <td>21214</td>\n",
       "      <td>Tata Tele. Mah.</td>\n",
       "      <td>-3986.19</td>\n",
       "      <td>1954.93</td>\n",
       "      <td>-2968.08</td>\n",
       "      <td>4458.20</td>\n",
       "      <td>7410.18</td>\n",
       "      <td>9070.86</td>\n",
       "      <td>-1098.88</td>\n",
       "      <td>486.86</td>\n",
       "      <td>...</td>\n",
       "      <td>-10.30</td>\n",
       "      <td>-39.74</td>\n",
       "      <td>-57.74</td>\n",
       "      <td>-57.74</td>\n",
       "      <td>-87.18</td>\n",
       "      <td>29</td>\n",
       "      <td>101</td>\n",
       "      <td>2.0</td>\n",
       "      <td>0.31</td>\n",
       "      <td>0.24</td>\n",
       "    </tr>\n",
       "    <tr>\n",
       "      <th>2</th>\n",
       "      <td>14852</td>\n",
       "      <td>ABG Shipyard</td>\n",
       "      <td>-3192.58</td>\n",
       "      <td>53.84</td>\n",
       "      <td>506.86</td>\n",
       "      <td>7714.68</td>\n",
       "      <td>6944.54</td>\n",
       "      <td>1281.54</td>\n",
       "      <td>4496.25</td>\n",
       "      <td>9097.64</td>\n",
       "      <td>...</td>\n",
       "      <td>-5279.14</td>\n",
       "      <td>-5516.98</td>\n",
       "      <td>-7780.25</td>\n",
       "      <td>-7723.67</td>\n",
       "      <td>-7961.51</td>\n",
       "      <td>97</td>\n",
       "      <td>558</td>\n",
       "      <td>0.0</td>\n",
       "      <td>-0.03</td>\n",
       "      <td>-0.26</td>\n",
       "    </tr>\n",
       "    <tr>\n",
       "      <th>3</th>\n",
       "      <td>2439</td>\n",
       "      <td>GTL</td>\n",
       "      <td>-3054.51</td>\n",
       "      <td>157.30</td>\n",
       "      <td>-623.49</td>\n",
       "      <td>2353.88</td>\n",
       "      <td>2326.05</td>\n",
       "      <td>1033.69</td>\n",
       "      <td>-2612.42</td>\n",
       "      <td>1034.12</td>\n",
       "      <td>...</td>\n",
       "      <td>-3.33</td>\n",
       "      <td>-7.21</td>\n",
       "      <td>-48.13</td>\n",
       "      <td>-47.70</td>\n",
       "      <td>-51.58</td>\n",
       "      <td>93</td>\n",
       "      <td>63</td>\n",
       "      <td>2.0</td>\n",
       "      <td>0.24</td>\n",
       "      <td>1.90</td>\n",
       "    </tr>\n",
       "    <tr>\n",
       "      <th>4</th>\n",
       "      <td>23505</td>\n",
       "      <td>Bharati Defence</td>\n",
       "      <td>-2967.36</td>\n",
       "      <td>50.30</td>\n",
       "      <td>-1070.83</td>\n",
       "      <td>4675.33</td>\n",
       "      <td>5740.90</td>\n",
       "      <td>1084.20</td>\n",
       "      <td>1836.23</td>\n",
       "      <td>4685.81</td>\n",
       "      <td>...</td>\n",
       "      <td>-295.55</td>\n",
       "      <td>-400.55</td>\n",
       "      <td>-845.88</td>\n",
       "      <td>379.79</td>\n",
       "      <td>274.79</td>\n",
       "      <td>3887</td>\n",
       "      <td>346</td>\n",
       "      <td>0.0</td>\n",
       "      <td>0.01</td>\n",
       "      <td>0.05</td>\n",
       "    </tr>\n",
       "  </tbody>\n",
       "</table>\n",
       "<p>5 rows × 67 columns</p>\n",
       "</div>"
      ],
      "text/plain": [
       "   Co_Code          Co_Name  Networth Next Year  Equity Paid Up  Networth  \\\n",
       "0    16974      Hind.Cables            -8021.60          419.36  -7027.48   \n",
       "1    21214  Tata Tele. Mah.            -3986.19         1954.93  -2968.08   \n",
       "2    14852     ABG Shipyard            -3192.58           53.84    506.86   \n",
       "3     2439              GTL            -3054.51          157.30   -623.49   \n",
       "4    23505  Bharati Defence            -2967.36           50.30  -1070.83   \n",
       "\n",
       "   Capital Employed  Total Debt  Gross Block   Net Working Capital   \\\n",
       "0          -1007.24     5936.03        474.30              -1076.34   \n",
       "1           4458.20     7410.18       9070.86              -1098.88   \n",
       "2           7714.68     6944.54       1281.54               4496.25   \n",
       "3           2353.88     2326.05       1033.69              -2612.42   \n",
       "4           4675.33     5740.90       1084.20               1836.23   \n",
       "\n",
       "   Current Assets   ...  PBIDTM (%)[Latest]  PBITM (%)[Latest]  \\\n",
       "0            40.50  ...                0.00               0.00   \n",
       "1           486.86  ...              -10.30             -39.74   \n",
       "2          9097.64  ...            -5279.14           -5516.98   \n",
       "3          1034.12  ...               -3.33              -7.21   \n",
       "4          4685.81  ...             -295.55            -400.55   \n",
       "\n",
       "   PBDTM (%)[Latest]  CPM (%)[Latest]  APATM (%)[Latest]  \\\n",
       "0               0.00             0.00               0.00   \n",
       "1             -57.74           -57.74             -87.18   \n",
       "2           -7780.25         -7723.67           -7961.51   \n",
       "3             -48.13           -47.70             -51.58   \n",
       "4            -845.88           379.79             274.79   \n",
       "\n",
       "   Debtors Velocity (Days)  Creditors Velocity (Days)  \\\n",
       "0                        0                          0   \n",
       "1                       29                        101   \n",
       "2                       97                        558   \n",
       "3                       93                         63   \n",
       "4                     3887                        346   \n",
       "\n",
       "   Inventory Velocity (Days)  Value of Output/Total Assets  \\\n",
       "0                       45.0                          0.00   \n",
       "1                        2.0                          0.31   \n",
       "2                        0.0                         -0.03   \n",
       "3                        2.0                          0.24   \n",
       "4                        0.0                          0.01   \n",
       "\n",
       "   Value of Output/Gross Block  \n",
       "0                         0.00  \n",
       "1                         0.24  \n",
       "2                        -0.26  \n",
       "3                         1.90  \n",
       "4                         0.05  \n",
       "\n",
       "[5 rows x 67 columns]"
      ]
     },
     "execution_count": 15,
     "metadata": {},
     "output_type": "execute_result"
    }
   ],
   "source": [
    "df.head()"
   ]
  },
  {
   "cell_type": "code",
   "execution_count": 16,
   "id": "06c3c496",
   "metadata": {},
   "outputs": [],
   "source": [
    "df.columns = df.columns.str.replace(' ', '_').str.replace('(', '').str.replace(')', '').str.replace('-',(\"_\")).str.replace('%','perc')"
   ]
  },
  {
   "cell_type": "code",
   "execution_count": 17,
   "id": "a4436bed",
   "metadata": {},
   "outputs": [
    {
     "data": {
      "text/plain": [
       "float64    63\n",
       "int64       3\n",
       "object      1\n",
       "dtype: int64"
      ]
     },
     "execution_count": 17,
     "metadata": {},
     "output_type": "execute_result"
    }
   ],
   "source": [
    "df.dtypes.value_counts()"
   ]
  },
  {
   "cell_type": "code",
   "execution_count": 18,
   "id": "4511773c",
   "metadata": {},
   "outputs": [
    {
     "name": "stdout",
     "output_type": "stream",
     "text": [
      "The number of rows is = 3586 \n",
      "The number of columns is = 67\n"
     ]
    }
   ],
   "source": [
    "print('The number of rows is =',df.shape[0],'\\n''The number of columns is =', df.shape[1])"
   ]
  },
  {
   "cell_type": "code",
   "execution_count": 19,
   "id": "fedccd94",
   "metadata": {},
   "outputs": [
    {
     "name": "stdout",
     "output_type": "stream",
     "text": [
      "<class 'pandas.core.frame.DataFrame'>\n",
      "RangeIndex: 3586 entries, 0 to 3585\n",
      "Data columns (total 67 columns):\n",
      " #   Column                               Non-Null Count  Dtype  \n",
      "---  ------                               --------------  -----  \n",
      " 0   Co_Code                              3586 non-null   int64  \n",
      " 1   Co_Name                              3586 non-null   object \n",
      " 2   Networth_Next_Year                   3586 non-null   float64\n",
      " 3   Equity_Paid_Up                       3586 non-null   float64\n",
      " 4   Networth                             3586 non-null   float64\n",
      " 5   Capital_Employed                     3586 non-null   float64\n",
      " 6   Total_Debt                           3586 non-null   float64\n",
      " 7   Gross_Block_                         3586 non-null   float64\n",
      " 8   Net_Working_Capital_                 3586 non-null   float64\n",
      " 9   Current_Assets_                      3586 non-null   float64\n",
      " 10  Current_Liabilities_and_Provisions_  3586 non-null   float64\n",
      " 11  Total_Assets/Liabilities_            3586 non-null   float64\n",
      " 12  Gross_Sales                          3586 non-null   float64\n",
      " 13  Net_Sales                            3586 non-null   float64\n",
      " 14  Other_Income                         3586 non-null   float64\n",
      " 15  Value_Of_Output                      3586 non-null   float64\n",
      " 16  Cost_of_Production                   3586 non-null   float64\n",
      " 17  Selling_Cost                         3586 non-null   float64\n",
      " 18  PBIDT                                3586 non-null   float64\n",
      " 19  PBDT                                 3586 non-null   float64\n",
      " 20  PBIT                                 3586 non-null   float64\n",
      " 21  PBT                                  3586 non-null   float64\n",
      " 22  PAT                                  3586 non-null   float64\n",
      " 23  Adjusted_PAT                         3586 non-null   float64\n",
      " 24  CP                                   3586 non-null   float64\n",
      " 25  Revenue_earnings_in_forex            3586 non-null   float64\n",
      " 26  Revenue_expenses_in_forex            3586 non-null   float64\n",
      " 27  Capital_expenses_in_forex            3586 non-null   float64\n",
      " 28  Book_Value_Unit_Curr                 3586 non-null   float64\n",
      " 29  Book_Value_Adj._Unit_Curr            3582 non-null   float64\n",
      " 30  Market_Capitalisation                3586 non-null   float64\n",
      " 31  CEPS_annualised_Unit_Curr            3586 non-null   float64\n",
      " 32  Cash_Flow_From_Operating_Activities  3586 non-null   float64\n",
      " 33  Cash_Flow_From_Investing_Activities  3586 non-null   float64\n",
      " 34  Cash_Flow_From_Financing_Activities  3586 non-null   float64\n",
      " 35  ROG_Net_Worth_perc                   3586 non-null   float64\n",
      " 36  ROG_Capital_Employed_perc            3586 non-null   float64\n",
      " 37  ROG_Gross_Block_perc                 3586 non-null   float64\n",
      " 38  ROG_Gross_Sales_perc                 3586 non-null   float64\n",
      " 39  ROG_Net_Sales_perc                   3586 non-null   float64\n",
      " 40  ROG_Cost_of_Production_perc          3586 non-null   float64\n",
      " 41  ROG_Total_Assets_perc                3586 non-null   float64\n",
      " 42  ROG_PBIDT_perc                       3586 non-null   float64\n",
      " 43  ROG_PBDT_perc                        3586 non-null   float64\n",
      " 44  ROG_PBIT_perc                        3586 non-null   float64\n",
      " 45  ROG_PBT_perc                         3586 non-null   float64\n",
      " 46  ROG_PAT_perc                         3586 non-null   float64\n",
      " 47  ROG_CP_perc                          3586 non-null   float64\n",
      " 48  ROG_Revenue_earnings_in_forex_perc   3586 non-null   float64\n",
      " 49  ROG_Revenue_expenses_in_forex_perc   3586 non-null   float64\n",
      " 50  ROG_Market_Capitalisation_perc       3586 non-null   float64\n",
      " 51  Current_Ratio[Latest]                3585 non-null   float64\n",
      " 52  Fixed_Assets_Ratio[Latest]           3585 non-null   float64\n",
      " 53  Inventory_Ratio[Latest]              3585 non-null   float64\n",
      " 54  Debtors_Ratio[Latest]                3585 non-null   float64\n",
      " 55  Total_Asset_Turnover_Ratio[Latest]   3585 non-null   float64\n",
      " 56  Interest_Cover_Ratio[Latest]         3585 non-null   float64\n",
      " 57  PBIDTM_perc[Latest]                  3585 non-null   float64\n",
      " 58  PBITM_perc[Latest]                   3585 non-null   float64\n",
      " 59  PBDTM_perc[Latest]                   3585 non-null   float64\n",
      " 60  CPM_perc[Latest]                     3585 non-null   float64\n",
      " 61  APATM_perc[Latest]                   3585 non-null   float64\n",
      " 62  Debtors_Velocity_Days                3586 non-null   int64  \n",
      " 63  Creditors_Velocity_Days              3586 non-null   int64  \n",
      " 64  Inventory_Velocity_Days              3483 non-null   float64\n",
      " 65  Value_of_Output/Total_Assets         3586 non-null   float64\n",
      " 66  Value_of_Output/Gross_Block          3586 non-null   float64\n",
      "dtypes: float64(63), int64(3), object(1)\n",
      "memory usage: 1.8+ MB\n"
     ]
    }
   ],
   "source": [
    "df.info()"
   ]
  },
  {
   "cell_type": "code",
   "execution_count": 20,
   "id": "127260ff",
   "metadata": {},
   "outputs": [
    {
     "data": {
      "text/html": [
       "<div>\n",
       "<style scoped>\n",
       "    .dataframe tbody tr th:only-of-type {\n",
       "        vertical-align: middle;\n",
       "    }\n",
       "\n",
       "    .dataframe tbody tr th {\n",
       "        vertical-align: top;\n",
       "    }\n",
       "\n",
       "    .dataframe thead th {\n",
       "        text-align: right;\n",
       "    }\n",
       "</style>\n",
       "<table border=\"1\" class=\"dataframe\">\n",
       "  <thead>\n",
       "    <tr style=\"text-align: right;\">\n",
       "      <th></th>\n",
       "      <th>count</th>\n",
       "      <th>mean</th>\n",
       "      <th>std</th>\n",
       "      <th>min</th>\n",
       "      <th>25%</th>\n",
       "      <th>50%</th>\n",
       "      <th>75%</th>\n",
       "      <th>max</th>\n",
       "    </tr>\n",
       "  </thead>\n",
       "  <tbody>\n",
       "    <tr>\n",
       "      <th>Co_Code</th>\n",
       "      <td>3586.00</td>\n",
       "      <td>16065.39</td>\n",
       "      <td>19776.82</td>\n",
       "      <td>4.00</td>\n",
       "      <td>3029.25</td>\n",
       "      <td>6077.50</td>\n",
       "      <td>24269.50</td>\n",
       "      <td>72493.00</td>\n",
       "    </tr>\n",
       "    <tr>\n",
       "      <th>Networth_Next_Year</th>\n",
       "      <td>3586.00</td>\n",
       "      <td>725.05</td>\n",
       "      <td>4769.68</td>\n",
       "      <td>-8021.60</td>\n",
       "      <td>3.98</td>\n",
       "      <td>19.02</td>\n",
       "      <td>123.80</td>\n",
       "      <td>111729.10</td>\n",
       "    </tr>\n",
       "    <tr>\n",
       "      <th>Equity_Paid_Up</th>\n",
       "      <td>3586.00</td>\n",
       "      <td>62.97</td>\n",
       "      <td>778.76</td>\n",
       "      <td>0.00</td>\n",
       "      <td>3.75</td>\n",
       "      <td>8.29</td>\n",
       "      <td>19.52</td>\n",
       "      <td>42263.46</td>\n",
       "    </tr>\n",
       "    <tr>\n",
       "      <th>Networth</th>\n",
       "      <td>3586.00</td>\n",
       "      <td>649.75</td>\n",
       "      <td>4091.99</td>\n",
       "      <td>-7027.48</td>\n",
       "      <td>3.89</td>\n",
       "      <td>18.58</td>\n",
       "      <td>117.30</td>\n",
       "      <td>81657.35</td>\n",
       "    </tr>\n",
       "    <tr>\n",
       "      <th>Capital_Employed</th>\n",
       "      <td>3586.00</td>\n",
       "      <td>2799.61</td>\n",
       "      <td>26975.14</td>\n",
       "      <td>-1824.75</td>\n",
       "      <td>7.60</td>\n",
       "      <td>39.09</td>\n",
       "      <td>226.60</td>\n",
       "      <td>714001.25</td>\n",
       "    </tr>\n",
       "    <tr>\n",
       "      <th>...</th>\n",
       "      <td>...</td>\n",
       "      <td>...</td>\n",
       "      <td>...</td>\n",
       "      <td>...</td>\n",
       "      <td>...</td>\n",
       "      <td>...</td>\n",
       "      <td>...</td>\n",
       "      <td>...</td>\n",
       "    </tr>\n",
       "    <tr>\n",
       "      <th>Debtors_Velocity_Days</th>\n",
       "      <td>3586.00</td>\n",
       "      <td>603.89</td>\n",
       "      <td>10636.76</td>\n",
       "      <td>0.00</td>\n",
       "      <td>8.00</td>\n",
       "      <td>49.00</td>\n",
       "      <td>106.00</td>\n",
       "      <td>514721.00</td>\n",
       "    </tr>\n",
       "    <tr>\n",
       "      <th>Creditors_Velocity_Days</th>\n",
       "      <td>3586.00</td>\n",
       "      <td>2057.85</td>\n",
       "      <td>54169.48</td>\n",
       "      <td>0.00</td>\n",
       "      <td>8.00</td>\n",
       "      <td>39.00</td>\n",
       "      <td>89.00</td>\n",
       "      <td>2034145.00</td>\n",
       "    </tr>\n",
       "    <tr>\n",
       "      <th>Inventory_Velocity_Days</th>\n",
       "      <td>3483.00</td>\n",
       "      <td>79.64</td>\n",
       "      <td>137.85</td>\n",
       "      <td>-199.00</td>\n",
       "      <td>0.00</td>\n",
       "      <td>35.00</td>\n",
       "      <td>96.00</td>\n",
       "      <td>996.00</td>\n",
       "    </tr>\n",
       "    <tr>\n",
       "      <th>Value_of_Output/Total_Assets</th>\n",
       "      <td>3586.00</td>\n",
       "      <td>0.82</td>\n",
       "      <td>1.20</td>\n",
       "      <td>-0.33</td>\n",
       "      <td>0.07</td>\n",
       "      <td>0.48</td>\n",
       "      <td>1.16</td>\n",
       "      <td>17.63</td>\n",
       "    </tr>\n",
       "    <tr>\n",
       "      <th>Value_of_Output/Gross_Block</th>\n",
       "      <td>3586.00</td>\n",
       "      <td>61.88</td>\n",
       "      <td>976.82</td>\n",
       "      <td>-61.00</td>\n",
       "      <td>0.27</td>\n",
       "      <td>1.53</td>\n",
       "      <td>4.91</td>\n",
       "      <td>43404.00</td>\n",
       "    </tr>\n",
       "  </tbody>\n",
       "</table>\n",
       "<p>66 rows × 8 columns</p>\n",
       "</div>"
      ],
      "text/plain": [
       "                               count     mean      std      min     25%  \\\n",
       "Co_Code                      3586.00 16065.39 19776.82     4.00 3029.25   \n",
       "Networth_Next_Year           3586.00   725.05  4769.68 -8021.60    3.98   \n",
       "Equity_Paid_Up               3586.00    62.97   778.76     0.00    3.75   \n",
       "Networth                     3586.00   649.75  4091.99 -7027.48    3.89   \n",
       "Capital_Employed             3586.00  2799.61 26975.14 -1824.75    7.60   \n",
       "...                              ...      ...      ...      ...     ...   \n",
       "Debtors_Velocity_Days        3586.00   603.89 10636.76     0.00    8.00   \n",
       "Creditors_Velocity_Days      3586.00  2057.85 54169.48     0.00    8.00   \n",
       "Inventory_Velocity_Days      3483.00    79.64   137.85  -199.00    0.00   \n",
       "Value_of_Output/Total_Assets 3586.00     0.82     1.20    -0.33    0.07   \n",
       "Value_of_Output/Gross_Block  3586.00    61.88   976.82   -61.00    0.27   \n",
       "\n",
       "                                 50%      75%        max  \n",
       "Co_Code                      6077.50 24269.50   72493.00  \n",
       "Networth_Next_Year             19.02   123.80  111729.10  \n",
       "Equity_Paid_Up                  8.29    19.52   42263.46  \n",
       "Networth                       18.58   117.30   81657.35  \n",
       "Capital_Employed               39.09   226.60  714001.25  \n",
       "...                              ...      ...        ...  \n",
       "Debtors_Velocity_Days          49.00   106.00  514721.00  \n",
       "Creditors_Velocity_Days        39.00    89.00 2034145.00  \n",
       "Inventory_Velocity_Days        35.00    96.00     996.00  \n",
       "Value_of_Output/Total_Assets    0.48     1.16      17.63  \n",
       "Value_of_Output/Gross_Block     1.53     4.91   43404.00  \n",
       "\n",
       "[66 rows x 8 columns]"
      ]
     },
     "execution_count": 20,
     "metadata": {},
     "output_type": "execute_result"
    }
   ],
   "source": [
    "pd.options.display.float_format = '{:.2f}'.format\n",
    "df.describe().T"
   ]
  },
  {
   "cell_type": "code",
   "execution_count": 21,
   "id": "f13f61e5",
   "metadata": {},
   "outputs": [
    {
     "name": "stdout",
     "output_type": "stream",
     "text": [
      "Number of duplicate rows = 0\n"
     ]
    }
   ],
   "source": [
    "dups = df.duplicated()\n",
    "print('Number of duplicate rows = %d' % (dups.sum()))"
   ]
  },
  {
   "cell_type": "code",
   "execution_count": 22,
   "id": "ea419afa",
   "metadata": {},
   "outputs": [],
   "source": [
    "df1 = df.drop(['Co_Code', 'Co_Name'], axis = 1)"
   ]
  },
  {
   "cell_type": "code",
   "execution_count": 23,
   "id": "8c37a266",
   "metadata": {},
   "outputs": [
    {
     "data": {
      "image/png": "[encoded data removed]",
      "text/plain": [
       "<Figure size 1152x576 with 1 Axes>"
      ]
     },
     "metadata": {
      "needs_background": "light"
     },
     "output_type": "display_data"
    }
   ],
   "source": [
    "df1.boxplot(figsize=(16,8))\n",
    "plt.xticks(rotation=90)\n",
    "plt.show()"
   ]
  },
  {
   "cell_type": "code",
   "execution_count": 24,
   "id": "0208f9c9",
   "metadata": {},
   "outputs": [],
   "source": [
    "def mod_outlier(df1):\n",
    "    df1 = df1._get_numeric_data()\n",
    "    \n",
    "    q1 = df1.quantile(0.25)\n",
    "    q3 = df1.quantile(0.75)\n",
    "    iqr = q3 - q1\n",
    "    lower_bound = q1 - (1.5 * iqr )\n",
    "    upper_bound    = q3 + (1.5 * iqr)\n",
    " \n",
    "    for col in df1.columns:\n",
    "        for i in range(0,len(df1[col])):\n",
    "            if df1[col][i] < lower_bound[col]:\n",
    "                df1[col][i] = lower_bound[col]\n",
    "            \n",
    "            if df1[col][i] > upper_bound[col]: \n",
    "                    df1[col][i] = upper_bound[col]\n",
    "    for col in df1.columns:\n",
    "        return(df1)"
   ]
  },
  {
   "cell_type": "code",
   "execution_count": 25,
   "id": "b23e3534",
   "metadata": {},
   "outputs": [],
   "source": [
    "df_new = mod_outlier(df1)"
   ]
  },
  {
   "cell_type": "code",
   "execution_count": 26,
   "id": "9c97319f",
   "metadata": {},
   "outputs": [
    {
     "data": {
      "text/plain": [
       "Inventory_Velocity_Days               103\n",
       "Book_Value_Adj._Unit_Curr               4\n",
       "Current_Ratio[Latest]                   1\n",
       "PBITM_perc[Latest]                      1\n",
       "Fixed_Assets_Ratio[Latest]              1\n",
       "Inventory_Ratio[Latest]                 1\n",
       "Debtors_Ratio[Latest]                   1\n",
       "Total_Asset_Turnover_Ratio[Latest]      1\n",
       "PBIDTM_perc[Latest]                     1\n",
       "Interest_Cover_Ratio[Latest]            1\n",
       "dtype: int64"
      ]
     },
     "execution_count": 26,
     "metadata": {},
     "output_type": "execute_result"
    }
   ],
   "source": [
    "df_new.isnull().sum().sort_values(ascending=False).head(10)"
   ]
  },
  {
   "cell_type": "code",
   "execution_count": 27,
   "id": "e9db52c6",
   "metadata": {},
   "outputs": [
    {
     "data": {
      "text/plain": [
       "118"
      ]
     },
     "execution_count": 27,
     "metadata": {},
     "output_type": "execute_result"
    }
   ],
   "source": [
    "df_new.isnull().sum().sum()"
   ]
  },
  {
   "cell_type": "code",
   "execution_count": 28,
   "id": "c63bc42e",
   "metadata": {},
   "outputs": [
    {
     "name": "stdout",
     "output_type": "stream",
     "text": [
      "(array([27, 49, 50, 51, 52, 53, 54, 55, 56, 57, 58, 59, 62], dtype=int64),)\n"
     ]
    }
   ],
   "source": [
    "print(np.where(df_new.isnull().sum()>0))"
   ]
  },
  {
   "cell_type": "code",
   "execution_count": 29,
   "id": "13fa0193",
   "metadata": {},
   "outputs": [
    {
     "data": {
      "text/html": [
       "<div>\n",
       "<style scoped>\n",
       "    .dataframe tbody tr th:only-of-type {\n",
       "        vertical-align: middle;\n",
       "    }\n",
       "\n",
       "    .dataframe tbody tr th {\n",
       "        vertical-align: top;\n",
       "    }\n",
       "\n",
       "    .dataframe thead th {\n",
       "        text-align: right;\n",
       "    }\n",
       "</style>\n",
       "<table border=\"1\" class=\"dataframe\">\n",
       "  <thead>\n",
       "    <tr style=\"text-align: right;\">\n",
       "      <th></th>\n",
       "      <th>Networth_Next_Year</th>\n",
       "      <th>Equity_Paid_Up</th>\n",
       "      <th>Networth</th>\n",
       "      <th>Capital_Employed</th>\n",
       "      <th>Total_Debt</th>\n",
       "      <th>Gross_Block_</th>\n",
       "      <th>Net_Working_Capital_</th>\n",
       "      <th>Current_Assets_</th>\n",
       "      <th>Current_Liabilities_and_Provisions_</th>\n",
       "      <th>Total_Assets/Liabilities_</th>\n",
       "      <th>...</th>\n",
       "      <th>PBIDTM_perc[Latest]</th>\n",
       "      <th>PBITM_perc[Latest]</th>\n",
       "      <th>PBDTM_perc[Latest]</th>\n",
       "      <th>CPM_perc[Latest]</th>\n",
       "      <th>APATM_perc[Latest]</th>\n",
       "      <th>Debtors_Velocity_Days</th>\n",
       "      <th>Creditors_Velocity_Days</th>\n",
       "      <th>Inventory_Velocity_Days</th>\n",
       "      <th>Value_of_Output/Total_Assets</th>\n",
       "      <th>Value_of_Output/Gross_Block</th>\n",
       "    </tr>\n",
       "  </thead>\n",
       "  <tbody>\n",
       "    <tr>\n",
       "      <th>0</th>\n",
       "      <td>-175.74</td>\n",
       "      <td>43.17</td>\n",
       "      <td>-166.22</td>\n",
       "      <td>-320.90</td>\n",
       "      <td>180.83</td>\n",
       "      <td>328.88</td>\n",
       "      <td>-89.41</td>\n",
       "      <td>40.50</td>\n",
       "      <td>163.03</td>\n",
       "      <td>109.60</td>\n",
       "      <td>...</td>\n",
       "      <td>0.00</td>\n",
       "      <td>0.00</td>\n",
       "      <td>0.00</td>\n",
       "      <td>0.00</td>\n",
       "      <td>0.00</td>\n",
       "      <td>0</td>\n",
       "      <td>0</td>\n",
       "      <td>45.00</td>\n",
       "      <td>0.00</td>\n",
       "      <td>0.00</td>\n",
       "    </tr>\n",
       "    <tr>\n",
       "      <th>1</th>\n",
       "      <td>-175.74</td>\n",
       "      <td>43.17</td>\n",
       "      <td>-166.22</td>\n",
       "      <td>555.11</td>\n",
       "      <td>180.83</td>\n",
       "      <td>328.88</td>\n",
       "      <td>-89.41</td>\n",
       "      <td>332.19</td>\n",
       "      <td>163.03</td>\n",
       "      <td>760.52</td>\n",
       "      <td>...</td>\n",
       "      <td>-10.30</td>\n",
       "      <td>-21.43</td>\n",
       "      <td>-21.16</td>\n",
       "      <td>-17.09</td>\n",
       "      <td>-11.12</td>\n",
       "      <td>29</td>\n",
       "      <td>101</td>\n",
       "      <td>2.00</td>\n",
       "      <td>0.31</td>\n",
       "      <td>0.24</td>\n",
       "    </tr>\n",
       "    <tr>\n",
       "      <th>2</th>\n",
       "      <td>-175.74</td>\n",
       "      <td>43.17</td>\n",
       "      <td>287.41</td>\n",
       "      <td>555.11</td>\n",
       "      <td>180.83</td>\n",
       "      <td>328.88</td>\n",
       "      <td>151.52</td>\n",
       "      <td>332.19</td>\n",
       "      <td>163.03</td>\n",
       "      <td>760.52</td>\n",
       "      <td>...</td>\n",
       "      <td>-28.48</td>\n",
       "      <td>-21.43</td>\n",
       "      <td>-21.16</td>\n",
       "      <td>-17.09</td>\n",
       "      <td>-11.12</td>\n",
       "      <td>97</td>\n",
       "      <td>210</td>\n",
       "      <td>0.00</td>\n",
       "      <td>-0.03</td>\n",
       "      <td>-0.26</td>\n",
       "    </tr>\n",
       "    <tr>\n",
       "      <th>3</th>\n",
       "      <td>-175.74</td>\n",
       "      <td>43.17</td>\n",
       "      <td>-166.22</td>\n",
       "      <td>555.11</td>\n",
       "      <td>180.83</td>\n",
       "      <td>328.88</td>\n",
       "      <td>-89.41</td>\n",
       "      <td>332.19</td>\n",
       "      <td>163.03</td>\n",
       "      <td>760.52</td>\n",
       "      <td>...</td>\n",
       "      <td>-3.33</td>\n",
       "      <td>-7.21</td>\n",
       "      <td>-21.16</td>\n",
       "      <td>-17.09</td>\n",
       "      <td>-11.12</td>\n",
       "      <td>93</td>\n",
       "      <td>63</td>\n",
       "      <td>2.00</td>\n",
       "      <td>0.24</td>\n",
       "      <td>1.90</td>\n",
       "    </tr>\n",
       "    <tr>\n",
       "      <th>4</th>\n",
       "      <td>-175.74</td>\n",
       "      <td>43.17</td>\n",
       "      <td>-166.22</td>\n",
       "      <td>555.11</td>\n",
       "      <td>180.83</td>\n",
       "      <td>328.88</td>\n",
       "      <td>151.52</td>\n",
       "      <td>332.19</td>\n",
       "      <td>163.03</td>\n",
       "      <td>760.52</td>\n",
       "      <td>...</td>\n",
       "      <td>-28.48</td>\n",
       "      <td>-21.43</td>\n",
       "      <td>-21.16</td>\n",
       "      <td>28.48</td>\n",
       "      <td>18.52</td>\n",
       "      <td>253</td>\n",
       "      <td>210</td>\n",
       "      <td>0.00</td>\n",
       "      <td>0.01</td>\n",
       "      <td>0.05</td>\n",
       "    </tr>\n",
       "    <tr>\n",
       "      <th>...</th>\n",
       "      <td>...</td>\n",
       "      <td>...</td>\n",
       "      <td>...</td>\n",
       "      <td>...</td>\n",
       "      <td>...</td>\n",
       "      <td>...</td>\n",
       "      <td>...</td>\n",
       "      <td>...</td>\n",
       "      <td>...</td>\n",
       "      <td>...</td>\n",
       "      <td>...</td>\n",
       "      <td>...</td>\n",
       "      <td>...</td>\n",
       "      <td>...</td>\n",
       "      <td>...</td>\n",
       "      <td>...</td>\n",
       "      <td>...</td>\n",
       "      <td>...</td>\n",
       "      <td>...</td>\n",
       "      <td>...</td>\n",
       "      <td>...</td>\n",
       "    </tr>\n",
       "    <tr>\n",
       "      <th>3581</th>\n",
       "      <td>303.53</td>\n",
       "      <td>43.17</td>\n",
       "      <td>287.41</td>\n",
       "      <td>555.11</td>\n",
       "      <td>180.83</td>\n",
       "      <td>328.88</td>\n",
       "      <td>0.00</td>\n",
       "      <td>332.19</td>\n",
       "      <td>163.03</td>\n",
       "      <td>760.52</td>\n",
       "      <td>...</td>\n",
       "      <td>0.00</td>\n",
       "      <td>0.00</td>\n",
       "      <td>0.00</td>\n",
       "      <td>0.00</td>\n",
       "      <td>0.00</td>\n",
       "      <td>0</td>\n",
       "      <td>0</td>\n",
       "      <td>35.00</td>\n",
       "      <td>0.60</td>\n",
       "      <td>7.76</td>\n",
       "    </tr>\n",
       "    <tr>\n",
       "      <th>3582</th>\n",
       "      <td>303.53</td>\n",
       "      <td>43.17</td>\n",
       "      <td>287.41</td>\n",
       "      <td>555.11</td>\n",
       "      <td>180.83</td>\n",
       "      <td>328.88</td>\n",
       "      <td>151.52</td>\n",
       "      <td>332.19</td>\n",
       "      <td>163.03</td>\n",
       "      <td>760.52</td>\n",
       "      <td>...</td>\n",
       "      <td>39.92</td>\n",
       "      <td>32.17</td>\n",
       "      <td>29.81</td>\n",
       "      <td>28.48</td>\n",
       "      <td>18.52</td>\n",
       "      <td>13</td>\n",
       "      <td>53</td>\n",
       "      <td>77.00</td>\n",
       "      <td>0.29</td>\n",
       "      <td>1.00</td>\n",
       "    </tr>\n",
       "    <tr>\n",
       "      <th>3583</th>\n",
       "      <td>303.53</td>\n",
       "      <td>43.17</td>\n",
       "      <td>287.41</td>\n",
       "      <td>555.11</td>\n",
       "      <td>180.83</td>\n",
       "      <td>328.88</td>\n",
       "      <td>151.52</td>\n",
       "      <td>332.19</td>\n",
       "      <td>163.03</td>\n",
       "      <td>760.52</td>\n",
       "      <td>...</td>\n",
       "      <td>8.09</td>\n",
       "      <td>6.69</td>\n",
       "      <td>7.31</td>\n",
       "      <td>5.69</td>\n",
       "      <td>4.29</td>\n",
       "      <td>7</td>\n",
       "      <td>30</td>\n",
       "      <td>48.00</td>\n",
       "      <td>1.42</td>\n",
       "      <td>3.24</td>\n",
       "    </tr>\n",
       "    <tr>\n",
       "      <th>3584</th>\n",
       "      <td>303.53</td>\n",
       "      <td>43.17</td>\n",
       "      <td>287.41</td>\n",
       "      <td>555.11</td>\n",
       "      <td>180.83</td>\n",
       "      <td>328.88</td>\n",
       "      <td>151.52</td>\n",
       "      <td>332.19</td>\n",
       "      <td>163.03</td>\n",
       "      <td>760.52</td>\n",
       "      <td>...</td>\n",
       "      <td>28.12</td>\n",
       "      <td>20.55</td>\n",
       "      <td>23.39</td>\n",
       "      <td>19.55</td>\n",
       "      <td>11.99</td>\n",
       "      <td>32</td>\n",
       "      <td>69</td>\n",
       "      <td>42.00</td>\n",
       "      <td>0.36</td>\n",
       "      <td>0.68</td>\n",
       "    </tr>\n",
       "    <tr>\n",
       "      <th>3585</th>\n",
       "      <td>303.53</td>\n",
       "      <td>43.17</td>\n",
       "      <td>287.41</td>\n",
       "      <td>555.11</td>\n",
       "      <td>180.83</td>\n",
       "      <td>328.88</td>\n",
       "      <td>-89.41</td>\n",
       "      <td>332.19</td>\n",
       "      <td>163.03</td>\n",
       "      <td>760.52</td>\n",
       "      <td>...</td>\n",
       "      <td>42.47</td>\n",
       "      <td>22.88</td>\n",
       "      <td>34.04</td>\n",
       "      <td>25.97</td>\n",
       "      <td>6.37</td>\n",
       "      <td>18</td>\n",
       "      <td>74</td>\n",
       "      <td>0.00</td>\n",
       "      <td>0.42</td>\n",
       "      <td>0.49</td>\n",
       "    </tr>\n",
       "  </tbody>\n",
       "</table>\n",
       "<p>3586 rows × 65 columns</p>\n",
       "</div>"
      ],
      "text/plain": [
       "      Networth_Next_Year  Equity_Paid_Up  Networth  Capital_Employed  \\\n",
       "0                -175.74           43.17   -166.22           -320.90   \n",
       "1                -175.74           43.17   -166.22            555.11   \n",
       "2                -175.74           43.17    287.41            555.11   \n",
       "3                -175.74           43.17   -166.22            555.11   \n",
       "4                -175.74           43.17   -166.22            555.11   \n",
       "...                  ...             ...       ...               ...   \n",
       "3581              303.53           43.17    287.41            555.11   \n",
       "3582              303.53           43.17    287.41            555.11   \n",
       "3583              303.53           43.17    287.41            555.11   \n",
       "3584              303.53           43.17    287.41            555.11   \n",
       "3585              303.53           43.17    287.41            555.11   \n",
       "\n",
       "      Total_Debt  Gross_Block_  Net_Working_Capital_  Current_Assets_  \\\n",
       "0         180.83        328.88                -89.41            40.50   \n",
       "1         180.83        328.88                -89.41           332.19   \n",
       "2         180.83        328.88                151.52           332.19   \n",
       "3         180.83        328.88                -89.41           332.19   \n",
       "4         180.83        328.88                151.52           332.19   \n",
       "...          ...           ...                   ...              ...   \n",
       "3581      180.83        328.88                  0.00           332.19   \n",
       "3582      180.83        328.88                151.52           332.19   \n",
       "3583      180.83        328.88                151.52           332.19   \n",
       "3584      180.83        328.88                151.52           332.19   \n",
       "3585      180.83        328.88                -89.41           332.19   \n",
       "\n",
       "      Current_Liabilities_and_Provisions_  Total_Assets/Liabilities_  ...  \\\n",
       "0                                  163.03                     109.60  ...   \n",
       "1                                  163.03                     760.52  ...   \n",
       "2                                  163.03                     760.52  ...   \n",
       "3                                  163.03                     760.52  ...   \n",
       "4                                  163.03                     760.52  ...   \n",
       "...                                   ...                        ...  ...   \n",
       "3581                               163.03                     760.52  ...   \n",
       "3582                               163.03                     760.52  ...   \n",
       "3583                               163.03                     760.52  ...   \n",
       "3584                               163.03                     760.52  ...   \n",
       "3585                               163.03                     760.52  ...   \n",
       "\n",
       "      PBIDTM_perc[Latest]  PBITM_perc[Latest]  PBDTM_perc[Latest]  \\\n",
       "0                    0.00                0.00                0.00   \n",
       "1                  -10.30              -21.43              -21.16   \n",
       "2                  -28.48              -21.43              -21.16   \n",
       "3                   -3.33               -7.21              -21.16   \n",
       "4                  -28.48              -21.43              -21.16   \n",
       "...                   ...                 ...                 ...   \n",
       "3581                 0.00                0.00                0.00   \n",
       "3582                39.92               32.17               29.81   \n",
       "3583                 8.09                6.69                7.31   \n",
       "3584                28.12               20.55               23.39   \n",
       "3585                42.47               22.88               34.04   \n",
       "\n",
       "      CPM_perc[Latest]  APATM_perc[Latest]  Debtors_Velocity_Days  \\\n",
       "0                 0.00                0.00                      0   \n",
       "1               -17.09              -11.12                     29   \n",
       "2               -17.09              -11.12                     97   \n",
       "3               -17.09              -11.12                     93   \n",
       "4                28.48               18.52                    253   \n",
       "...                ...                 ...                    ...   \n",
       "3581              0.00                0.00                      0   \n",
       "3582             28.48               18.52                     13   \n",
       "3583              5.69                4.29                      7   \n",
       "3584             19.55               11.99                     32   \n",
       "3585             25.97                6.37                     18   \n",
       "\n",
       "      Creditors_Velocity_Days  Inventory_Velocity_Days  \\\n",
       "0                           0                    45.00   \n",
       "1                         101                     2.00   \n",
       "2                         210                     0.00   \n",
       "3                          63                     2.00   \n",
       "4                         210                     0.00   \n",
       "...                       ...                      ...   \n",
       "3581                        0                    35.00   \n",
       "3582                       53                    77.00   \n",
       "3583                       30                    48.00   \n",
       "3584                       69                    42.00   \n",
       "3585                       74                     0.00   \n",
       "\n",
       "      Value_of_Output/Total_Assets  Value_of_Output/Gross_Block  \n",
       "0                             0.00                         0.00  \n",
       "1                             0.31                         0.24  \n",
       "2                            -0.03                        -0.26  \n",
       "3                             0.24                         1.90  \n",
       "4                             0.01                         0.05  \n",
       "...                            ...                          ...  \n",
       "3581                          0.60                         7.76  \n",
       "3582                          0.29                         1.00  \n",
       "3583                          1.42                         3.24  \n",
       "3584                          0.36                         0.68  \n",
       "3585                          0.42                         0.49  \n",
       "\n",
       "[3586 rows x 65 columns]"
      ]
     },
     "execution_count": 29,
     "metadata": {},
     "output_type": "execute_result"
    }
   ],
   "source": [
    "df_new.fillna(df.median())\n"
   ]
  },
  {
   "cell_type": "code",
   "execution_count": 30,
   "id": "cc3a2e9c",
   "metadata": {},
   "outputs": [
    {
     "name": "stdout",
     "output_type": "stream",
     "text": [
      "[]\n",
      "['Networth_Next_Year', 'Equity_Paid_Up', 'Networth', 'Capital_Employed', 'Total_Debt', 'Gross_Block_', 'Net_Working_Capital_', 'Current_Assets_', 'Current_Liabilities_and_Provisions_', 'Total_Assets/Liabilities_', 'Gross_Sales', 'Net_Sales', 'Other_Income', 'Value_Of_Output', 'Cost_of_Production', 'Selling_Cost', 'PBIDT', 'PBDT', 'PBIT', 'PBT', 'PAT', 'Adjusted_PAT', 'CP', 'Revenue_earnings_in_forex', 'Revenue_expenses_in_forex', 'Capital_expenses_in_forex', 'Book_Value_Unit_Curr', 'Book_Value_Adj._Unit_Curr', 'Market_Capitalisation', 'CEPS_annualised_Unit_Curr', 'Cash_Flow_From_Operating_Activities', 'Cash_Flow_From_Investing_Activities', 'Cash_Flow_From_Financing_Activities', 'ROG_Net_Worth_perc', 'ROG_Capital_Employed_perc', 'ROG_Gross_Block_perc', 'ROG_Gross_Sales_perc', 'ROG_Net_Sales_perc', 'ROG_Cost_of_Production_perc', 'ROG_Total_Assets_perc', 'ROG_PBIDT_perc', 'ROG_PBDT_perc', 'ROG_PBIT_perc', 'ROG_PBT_perc', 'ROG_PAT_perc', 'ROG_CP_perc', 'ROG_Revenue_earnings_in_forex_perc', 'ROG_Revenue_expenses_in_forex_perc', 'ROG_Market_Capitalisation_perc', 'Current_Ratio[Latest]', 'Fixed_Assets_Ratio[Latest]', 'Inventory_Ratio[Latest]', 'Debtors_Ratio[Latest]', 'Total_Asset_Turnover_Ratio[Latest]', 'Interest_Cover_Ratio[Latest]', 'PBIDTM_perc[Latest]', 'PBITM_perc[Latest]', 'PBDTM_perc[Latest]', 'CPM_perc[Latest]', 'APATM_perc[Latest]', 'Debtors_Velocity_Days', 'Creditors_Velocity_Days', 'Inventory_Velocity_Days', 'Value_of_Output/Total_Assets', 'Value_of_Output/Gross_Block']\n"
     ]
    }
   ],
   "source": [
    "cat=[]\n",
    "num=[]\n",
    "for i in df_new.columns:\n",
    "    if df_new[i].dtype==\"object\":\n",
    "        cat.append(i)\n",
    "    else:\n",
    "        num.append(i)\n",
    "\n",
    "print(cat)\n",
    "print(num)"
   ]
  },
  {
   "cell_type": "code",
   "execution_count": 31,
   "id": "c56161b9",
   "metadata": {},
   "outputs": [],
   "source": [
    "from sklearn.impute import SimpleImputer\n",
    "imputer = SimpleImputer(missing_values=np.nan, strategy='median')"
   ]
  },
  {
   "cell_type": "code",
   "execution_count": 32,
   "id": "8baff640",
   "metadata": {},
   "outputs": [],
   "source": [
    "df_new = pd.DataFrame(imputer.fit_transform(df_new))\n",
    "df_new.columns=num"
   ]
  },
  {
   "cell_type": "code",
   "execution_count": 33,
   "id": "bdc75506",
   "metadata": {},
   "outputs": [
    {
     "data": {
      "text/plain": [
       "False"
      ]
     },
     "execution_count": 33,
     "metadata": {},
     "output_type": "execute_result"
    }
   ],
   "source": [
    "df_new.isnull().any().any()"
   ]
  },
  {
   "cell_type": "code",
   "execution_count": 34,
   "id": "024df110",
   "metadata": {},
   "outputs": [
    {
     "data": {
      "text/plain": [
       "Networth_Next_Year                    0\n",
       "ROG_Net_Worth_perc                    0\n",
       "ROG_Gross_Block_perc                  0\n",
       "ROG_Gross_Sales_perc                  0\n",
       "ROG_Net_Sales_perc                    0\n",
       "ROG_Cost_of_Production_perc           0\n",
       "ROG_Total_Assets_perc                 0\n",
       "ROG_PBIDT_perc                        0\n",
       "ROG_PBDT_perc                         0\n",
       "ROG_PBIT_perc                         0\n",
       "ROG_PBT_perc                          0\n",
       "ROG_PAT_perc                          0\n",
       "ROG_CP_perc                           0\n",
       "ROG_Revenue_earnings_in_forex_perc    0\n",
       "ROG_Revenue_expenses_in_forex_perc    0\n",
       "ROG_Market_Capitalisation_perc        0\n",
       "Current_Ratio[Latest]                 0\n",
       "Fixed_Assets_Ratio[Latest]            0\n",
       "Inventory_Ratio[Latest]               0\n",
       "Debtors_Ratio[Latest]                 0\n",
       "dtype: int64"
      ]
     },
     "execution_count": 34,
     "metadata": {},
     "output_type": "execute_result"
    }
   ],
   "source": [
    "df_new.isnull().sum().sort_values(ascending=False).head(20)"
   ]
  },
  {
   "cell_type": "code",
   "execution_count": 35,
   "id": "50640db8",
   "metadata": {},
   "outputs": [],
   "source": [
    "df_new['default'] = np.where((df_new['Networth_Next_Year'] > 0), 0, 1)"
   ]
  },
  {
   "cell_type": "code",
   "execution_count": 36,
   "id": "31a1d052",
   "metadata": {},
   "outputs": [
    {
     "data": {
      "text/plain": [
       "0    3198\n",
       "1     388\n",
       "Name: default, dtype: int64"
      ]
     },
     "execution_count": 36,
     "metadata": {},
     "output_type": "execute_result"
    }
   ],
   "source": [
    "df_new['default'].value_counts()"
   ]
  },
  {
   "cell_type": "code",
   "execution_count": 37,
   "id": "5548a1c1",
   "metadata": {},
   "outputs": [
    {
     "data": {
      "text/plain": [
       "0   0.89\n",
       "1   0.11\n",
       "Name: default, dtype: float64"
      ]
     },
     "execution_count": 37,
     "metadata": {},
     "output_type": "execute_result"
    }
   ],
   "source": [
    "df_new['default'].value_counts(normalize = True)"
   ]
  },
  {
   "cell_type": "code",
   "execution_count": 38,
   "id": "0c0efbeb",
   "metadata": {},
   "outputs": [],
   "source": [
    "X = df_new.drop(['default','Networth_Next_Year'], axis=1)\n",
    "y = df_new['default']"
   ]
  },
  {
   "cell_type": "markdown",
   "id": "55c94d8e",
   "metadata": {},
   "source": [
    "Build a Random Forest Model on Train Dataset. Also showcase your model building approach."
   ]
  },
  {
   "cell_type": "code",
   "execution_count": 39,
   "id": "2f916cf6",
   "metadata": {},
   "outputs": [],
   "source": [
    "from sklearn.model_selection import train_test_split\n",
    "X_train, X_test, y_train, y_test = train_test_split(X,y,test_size=0.33,random_state=42,stratify=y)"
   ]
  },
  {
   "cell_type": "code",
   "execution_count": null,
   "id": "2b0a8450",
   "metadata": {},
   "outputs": [],
   "source": []
  },
  {
   "cell_type": "code",
   "execution_count": 40,
   "id": "a03fa904",
   "metadata": {},
   "outputs": [],
   "source": [
    "param_grid_rfcl = {\n",
    " 'max_depth': [4,5,6],\n",
    " 'max_features': [2,3,4,5],\n",
    " 'min_samples_leaf': [8,9,11,15],\n",
    " 'min_samples_split': [46,50,55],\n",
    " 'n_estimators': [290,350,400]\n",
    "}\n",
    "rfcl = RandomForestClassifier(random_state=42)\n",
    "grid_search_rfcl = GridSearchCV(estimator = rfcl, param_grid = param_grid_rfcl, cv =3)\n"
   ]
  },
  {
   "cell_type": "code",
   "execution_count": 41,
   "id": "f255e876",
   "metadata": {},
   "outputs": [
    {
     "data": {
      "text/html": [
       "<style>#sk-container-id-1 {color: black;background-color: white;}#sk-container-id-1 pre{padding: 0;}#sk-container-id-1 div.sk-toggleable {background-color: white;}#sk-container-id-1 label.sk-toggleable__label {cursor: pointer;display: block;width: 100%;margin-bottom: 0;padding: 0.3em;box-sizing: border-box;text-align: center;}#sk-container-id-1 label.sk-toggleable__label-arrow:before {content: \"▸\";float: left;margin-right: 0.25em;color: #696969;}#sk-container-id-1 label.sk-toggleable__label-arrow:hover:before {color: black;}#sk-container-id-1 div.sk-estimator:hover label.sk-toggleable__label-arrow:before {color: black;}#sk-container-id-1 div.sk-toggleable__content {max-height: 0;max-width: 0;overflow: hidden;text-align: left;background-color: #f0f8ff;}#sk-container-id-1 div.sk-toggleable__content pre {margin: 0.2em;color: black;border-radius: 0.25em;background-color: #f0f8ff;}#sk-container-id-1 input.sk-toggleable__control:checked~div.sk-toggleable__content {max-height: 200px;max-width: 100%;overflow: auto;}#sk-container-id-1 input.sk-toggleable__control:checked~label.sk-toggleable__label-arrow:before {content: \"▾\";}#sk-container-id-1 div.sk-estimator input.sk-toggleable__control:checked~label.sk-toggleable__label {background-color: #d4ebff;}#sk-container-id-1 div.sk-label input.sk-toggleable__control:checked~label.sk-toggleable__label {background-color: #d4ebff;}#sk-container-id-1 input.sk-hidden--visually {border: 0;clip: rect(1px 1px 1px 1px);clip: rect(1px, 1px, 1px, 1px);height: 1px;margin: -1px;overflow: hidden;padding: 0;position: absolute;width: 1px;}#sk-container-id-1 div.sk-estimator {font-family: monospace;background-color: #f0f8ff;border: 1px dotted black;border-radius: 0.25em;box-sizing: border-box;margin-bottom: 0.5em;}#sk-container-id-1 div.sk-estimator:hover {background-color: #d4ebff;}#sk-container-id-1 div.sk-parallel-item::after {content: \"\";width: 100%;border-bottom: 1px solid gray;flex-grow: 1;}#sk-container-id-1 div.sk-label:hover label.sk-toggleable__label {background-color: #d4ebff;}#sk-container-id-1 div.sk-serial::before {content: \"\";position: absolute;border-left: 1px solid gray;box-sizing: border-box;top: 0;bottom: 0;left: 50%;z-index: 0;}#sk-container-id-1 div.sk-serial {display: flex;flex-direction: column;align-items: center;background-color: white;padding-right: 0.2em;padding-left: 0.2em;position: relative;}#sk-container-id-1 div.sk-item {position: relative;z-index: 1;}#sk-container-id-1 div.sk-parallel {display: flex;align-items: stretch;justify-content: center;background-color: white;position: relative;}#sk-container-id-1 div.sk-item::before, #sk-container-id-1 div.sk-parallel-item::before {content: \"\";position: absolute;border-left: 1px solid gray;box-sizing: border-box;top: 0;bottom: 0;left: 50%;z-index: -1;}#sk-container-id-1 div.sk-parallel-item {display: flex;flex-direction: column;z-index: 1;position: relative;background-color: white;}#sk-container-id-1 div.sk-parallel-item:first-child::after {align-self: flex-end;width: 50%;}#sk-container-id-1 div.sk-parallel-item:last-child::after {align-self: flex-start;width: 50%;}#sk-container-id-1 div.sk-parallel-item:only-child::after {width: 0;}#sk-container-id-1 div.sk-dashed-wrapped {border: 1px dashed gray;margin: 0 0.4em 0.5em 0.4em;box-sizing: border-box;padding-bottom: 0.4em;background-color: white;}#sk-container-id-1 div.sk-label label {font-family: monospace;font-weight: bold;display: inline-block;line-height: 1.2em;}#sk-container-id-1 div.sk-label-container {text-align: center;}#sk-container-id-1 div.sk-container {/* jupyter's `normalize.less` sets `[hidden] { display: none; }` but bootstrap.min.css set `[hidden] { display: none !important; }` so we also need the `!important` here to be able to override the default hidden behavior on the sphinx rendered scikit-learn.org. See: https://github.com/scikit-learn/scikit-learn/issues/21755 */display: inline-block !important;position: relative;}#sk-container-id-1 div.sk-text-repr-fallback {display: none;}</style><div id=\"sk-container-id-1\" class=\"sk-top-container\"><div class=\"sk-text-repr-fallback\"><pre>GridSearchCV(cv=3, estimator=RandomForestClassifier(random_state=42),\n",
       "             param_grid={&#x27;max_depth&#x27;: [4, 5, 6], &#x27;max_features&#x27;: [2, 3, 4, 5],\n",
       "                         &#x27;min_samples_leaf&#x27;: [8, 9, 11, 15],\n",
       "                         &#x27;min_samples_split&#x27;: [46, 50, 55],\n",
       "                         &#x27;n_estimators&#x27;: [290, 350, 400]})</pre><b>In a Jupyter environment, please rerun this cell to show the HTML representation or trust the notebook. <br />On GitHub, the HTML representation is unable to render, please try loading this page with nbviewer.org.</b></div><div class=\"sk-container\" hidden><div class=\"sk-item sk-dashed-wrapped\"><div class=\"sk-label-container\"><div class=\"sk-label sk-toggleable\"><input class=\"sk-toggleable__control sk-hidden--visually\" id=\"sk-estimator-id-1\" type=\"checkbox\" ><label for=\"sk-estimator-id-1\" class=\"sk-toggleable__label sk-toggleable__label-arrow\">GridSearchCV</label><div class=\"sk-toggleable__content\"><pre>GridSearchCV(cv=3, estimator=RandomForestClassifier(random_state=42),\n",
       "             param_grid={&#x27;max_depth&#x27;: [4, 5, 6], &#x27;max_features&#x27;: [2, 3, 4, 5],\n",
       "                         &#x27;min_samples_leaf&#x27;: [8, 9, 11, 15],\n",
       "                         &#x27;min_samples_split&#x27;: [46, 50, 55],\n",
       "                         &#x27;n_estimators&#x27;: [290, 350, 400]})</pre></div></div></div><div class=\"sk-parallel\"><div class=\"sk-parallel-item\"><div class=\"sk-item\"><div class=\"sk-label-container\"><div class=\"sk-label sk-toggleable\"><input class=\"sk-toggleable__control sk-hidden--visually\" id=\"sk-estimator-id-2\" type=\"checkbox\" ><label for=\"sk-estimator-id-2\" class=\"sk-toggleable__label sk-toggleable__label-arrow\">estimator: RandomForestClassifier</label><div class=\"sk-toggleable__content\"><pre>RandomForestClassifier(random_state=42)</pre></div></div></div><div class=\"sk-serial\"><div class=\"sk-item\"><div class=\"sk-estimator sk-toggleable\"><input class=\"sk-toggleable__control sk-hidden--visually\" id=\"sk-estimator-id-3\" type=\"checkbox\" ><label for=\"sk-estimator-id-3\" class=\"sk-toggleable__label sk-toggleable__label-arrow\">RandomForestClassifier</label><div class=\"sk-toggleable__content\"><pre>RandomForestClassifier(random_state=42)</pre></div></div></div></div></div></div></div></div></div></div>"
      ],
      "text/plain": [
       "GridSearchCV(cv=3, estimator=RandomForestClassifier(random_state=42),\n",
       "             param_grid={'max_depth': [4, 5, 6], 'max_features': [2, 3, 4, 5],\n",
       "                         'min_samples_leaf': [8, 9, 11, 15],\n",
       "                         'min_samples_split': [46, 50, 55],\n",
       "                         'n_estimators': [290, 350, 400]})"
      ]
     },
     "execution_count": 41,
     "metadata": {},
     "output_type": "execute_result"
    }
   ],
   "source": [
    "grid_search_rfcl.fit(X_train, y_train)"
   ]
  },
  {
   "cell_type": "code",
   "execution_count": 42,
   "id": "18f7106d",
   "metadata": {},
   "outputs": [
    {
     "data": {
      "text/plain": [
       "{'max_depth': 5,\n",
       " 'max_features': 5,\n",
       " 'min_samples_leaf': 8,\n",
       " 'min_samples_split': 50,\n",
       " 'n_estimators': 290}"
      ]
     },
     "execution_count": 42,
     "metadata": {},
     "output_type": "execute_result"
    }
   ],
   "source": [
    "grid_search_rfcl.best_params_"
   ]
  },
  {
   "cell_type": "code",
   "execution_count": 43,
   "id": "26c1b163",
   "metadata": {},
   "outputs": [],
   "source": [
    "best_grid_rfcl = grid_search_rfcl.best_estimator_"
   ]
  },
  {
   "cell_type": "code",
   "execution_count": 44,
   "id": "129c877d",
   "metadata": {},
   "outputs": [
    {
     "data": {
      "text/html": [
       "<style>#sk-container-id-2 {color: black;background-color: white;}#sk-container-id-2 pre{padding: 0;}#sk-container-id-2 div.sk-toggleable {background-color: white;}#sk-container-id-2 label.sk-toggleable__label {cursor: pointer;display: block;width: 100%;margin-bottom: 0;padding: 0.3em;box-sizing: border-box;text-align: center;}#sk-container-id-2 label.sk-toggleable__label-arrow:before {content: \"▸\";float: left;margin-right: 0.25em;color: #696969;}#sk-container-id-2 label.sk-toggleable__label-arrow:hover:before {color: black;}#sk-container-id-2 div.sk-estimator:hover label.sk-toggleable__label-arrow:before {color: black;}#sk-container-id-2 div.sk-toggleable__content {max-height: 0;max-width: 0;overflow: hidden;text-align: left;background-color: #f0f8ff;}#sk-container-id-2 div.sk-toggleable__content pre {margin: 0.2em;color: black;border-radius: 0.25em;background-color: #f0f8ff;}#sk-container-id-2 input.sk-toggleable__control:checked~div.sk-toggleable__content {max-height: 200px;max-width: 100%;overflow: auto;}#sk-container-id-2 input.sk-toggleable__control:checked~label.sk-toggleable__label-arrow:before {content: \"▾\";}#sk-container-id-2 div.sk-estimator input.sk-toggleable__control:checked~label.sk-toggleable__label {background-color: #d4ebff;}#sk-container-id-2 div.sk-label input.sk-toggleable__control:checked~label.sk-toggleable__label {background-color: #d4ebff;}#sk-container-id-2 input.sk-hidden--visually {border: 0;clip: rect(1px 1px 1px 1px);clip: rect(1px, 1px, 1px, 1px);height: 1px;margin: -1px;overflow: hidden;padding: 0;position: absolute;width: 1px;}#sk-container-id-2 div.sk-estimator {font-family: monospace;background-color: #f0f8ff;border: 1px dotted black;border-radius: 0.25em;box-sizing: border-box;margin-bottom: 0.5em;}#sk-container-id-2 div.sk-estimator:hover {background-color: #d4ebff;}#sk-container-id-2 div.sk-parallel-item::after {content: \"\";width: 100%;border-bottom: 1px solid gray;flex-grow: 1;}#sk-container-id-2 div.sk-label:hover label.sk-toggleable__label {background-color: #d4ebff;}#sk-container-id-2 div.sk-serial::before {content: \"\";position: absolute;border-left: 1px solid gray;box-sizing: border-box;top: 0;bottom: 0;left: 50%;z-index: 0;}#sk-container-id-2 div.sk-serial {display: flex;flex-direction: column;align-items: center;background-color: white;padding-right: 0.2em;padding-left: 0.2em;position: relative;}#sk-container-id-2 div.sk-item {position: relative;z-index: 1;}#sk-container-id-2 div.sk-parallel {display: flex;align-items: stretch;justify-content: center;background-color: white;position: relative;}#sk-container-id-2 div.sk-item::before, #sk-container-id-2 div.sk-parallel-item::before {content: \"\";position: absolute;border-left: 1px solid gray;box-sizing: border-box;top: 0;bottom: 0;left: 50%;z-index: -1;}#sk-container-id-2 div.sk-parallel-item {display: flex;flex-direction: column;z-index: 1;position: relative;background-color: white;}#sk-container-id-2 div.sk-parallel-item:first-child::after {align-self: flex-end;width: 50%;}#sk-container-id-2 div.sk-parallel-item:last-child::after {align-self: flex-start;width: 50%;}#sk-container-id-2 div.sk-parallel-item:only-child::after {width: 0;}#sk-container-id-2 div.sk-dashed-wrapped {border: 1px dashed gray;margin: 0 0.4em 0.5em 0.4em;box-sizing: border-box;padding-bottom: 0.4em;background-color: white;}#sk-container-id-2 div.sk-label label {font-family: monospace;font-weight: bold;display: inline-block;line-height: 1.2em;}#sk-container-id-2 div.sk-label-container {text-align: center;}#sk-container-id-2 div.sk-container {/* jupyter's `normalize.less` sets `[hidden] { display: none; }` but bootstrap.min.css set `[hidden] { display: none !important; }` so we also need the `!important` here to be able to override the default hidden behavior on the sphinx rendered scikit-learn.org. See: https://github.com/scikit-learn/scikit-learn/issues/21755 */display: inline-block !important;position: relative;}#sk-container-id-2 div.sk-text-repr-fallback {display: none;}</style><div id=\"sk-container-id-2\" class=\"sk-top-container\"><div class=\"sk-text-repr-fallback\"><pre>RandomForestClassifier(max_depth=5, max_features=5, min_samples_leaf=8,\n",
       "                       min_samples_split=50, n_estimators=290, random_state=42)</pre><b>In a Jupyter environment, please rerun this cell to show the HTML representation or trust the notebook. <br />On GitHub, the HTML representation is unable to render, please try loading this page with nbviewer.org.</b></div><div class=\"sk-container\" hidden><div class=\"sk-item\"><div class=\"sk-estimator sk-toggleable\"><input class=\"sk-toggleable__control sk-hidden--visually\" id=\"sk-estimator-id-4\" type=\"checkbox\" checked><label for=\"sk-estimator-id-4\" class=\"sk-toggleable__label sk-toggleable__label-arrow\">RandomForestClassifier</label><div class=\"sk-toggleable__content\"><pre>RandomForestClassifier(max_depth=5, max_features=5, min_samples_leaf=8,\n",
       "                       min_samples_split=50, n_estimators=290, random_state=42)</pre></div></div></div></div></div>"
      ],
      "text/plain": [
       "RandomForestClassifier(max_depth=5, max_features=5, min_samples_leaf=8,\n",
       "                       min_samples_split=50, n_estimators=290, random_state=42)"
      ]
     },
     "execution_count": 44,
     "metadata": {},
     "output_type": "execute_result"
    }
   ],
   "source": [
    "best_grid_rfcl"
   ]
  },
  {
   "cell_type": "code",
   "execution_count": 45,
   "id": "cfa3517e",
   "metadata": {},
   "outputs": [],
   "source": [
    "ytrain_predict_rfcl = best_grid_rfcl.predict(X_train)\n",
    "ytest_predict_rfcl = best_grid_rfcl.predict(X_test)"
   ]
  },
  {
   "cell_type": "code",
   "execution_count": 46,
   "id": "9cd2a662",
   "metadata": {},
   "outputs": [
    {
     "data": {
      "text/html": [
       "<div>\n",
       "<style scoped>\n",
       "    .dataframe tbody tr th:only-of-type {\n",
       "        vertical-align: middle;\n",
       "    }\n",
       "\n",
       "    .dataframe tbody tr th {\n",
       "        vertical-align: top;\n",
       "    }\n",
       "\n",
       "    .dataframe thead th {\n",
       "        text-align: right;\n",
       "    }\n",
       "</style>\n",
       "<table border=\"1\" class=\"dataframe\">\n",
       "  <thead>\n",
       "    <tr style=\"text-align: right;\">\n",
       "      <th></th>\n",
       "      <th>0</th>\n",
       "      <th>1</th>\n",
       "    </tr>\n",
       "  </thead>\n",
       "  <tbody>\n",
       "    <tr>\n",
       "      <th>0</th>\n",
       "      <td>0.17</td>\n",
       "      <td>0.83</td>\n",
       "    </tr>\n",
       "    <tr>\n",
       "      <th>1</th>\n",
       "      <td>1.00</td>\n",
       "      <td>0.00</td>\n",
       "    </tr>\n",
       "    <tr>\n",
       "      <th>2</th>\n",
       "      <td>0.99</td>\n",
       "      <td>0.01</td>\n",
       "    </tr>\n",
       "    <tr>\n",
       "      <th>3</th>\n",
       "      <td>0.94</td>\n",
       "      <td>0.06</td>\n",
       "    </tr>\n",
       "    <tr>\n",
       "      <th>4</th>\n",
       "      <td>1.00</td>\n",
       "      <td>0.00</td>\n",
       "    </tr>\n",
       "  </tbody>\n",
       "</table>\n",
       "</div>"
      ],
      "text/plain": [
       "     0    1\n",
       "0 0.17 0.83\n",
       "1 1.00 0.00\n",
       "2 0.99 0.01\n",
       "3 0.94 0.06\n",
       "4 1.00 0.00"
      ]
     },
     "execution_count": 46,
     "metadata": {},
     "output_type": "execute_result"
    }
   ],
   "source": [
    "ytest_predict_rfcl\n",
    "ytest_predict_prob_rfcl=best_grid_rfcl.predict_proba(X_test)\n",
    "ytest_predict_prob_rfcl\n",
    "pd.DataFrame(ytest_predict_prob_rfcl).head()"
   ]
  },
  {
   "cell_type": "code",
   "execution_count": 47,
   "id": "583b9237",
   "metadata": {},
   "outputs": [
    {
     "name": "stdout",
     "output_type": "stream",
     "text": [
      "                                    Important\n",
      "Networth                                 0.19\n",
      "Book_Value_Adj._Unit_Curr                0.19\n",
      "Book_Value_Unit_Curr                     0.18\n",
      "Capital_Employed                         0.05\n",
      "Current_Ratio[Latest]                    0.05\n",
      "...                                       ...\n",
      "Revenue_expenses_in_forex                0.00\n",
      "Revenue_earnings_in_forex                0.00\n",
      "Capital_expenses_in_forex                0.00\n",
      "ROG_Revenue_expenses_in_forex_perc       0.00\n",
      "ROG_Revenue_earnings_in_forex_perc       0.00\n",
      "\n",
      "[64 rows x 1 columns]\n"
     ]
    }
   ],
   "source": [
    "print (pd.DataFrame (best_grid_rfcl.feature_importances_,\n",
    "     columns = [\"Important\"],\n",
    "     index = X_test.columns).sort_values('Important',ascending=False))"
   ]
  },
  {
   "cell_type": "code",
   "execution_count": 48,
   "id": "4e68321d",
   "metadata": {},
   "outputs": [],
   "source": [
    "rfcl = RandomForestClassifier(max_depth=6, max_features=5, min_samples_leaf=8, min_samples_split=50, n_estimators=290, random_state=42)"
   ]
  },
  {
   "cell_type": "code",
   "execution_count": 49,
   "id": "7acfd048",
   "metadata": {},
   "outputs": [],
   "source": [
    "selector_RF = RFE(estimator = rfcl, n_features_to_select=21, step=1)"
   ]
  },
  {
   "cell_type": "code",
   "execution_count": 50,
   "id": "8ac3c5c4",
   "metadata": {},
   "outputs": [],
   "source": [
    "selector_RF = selector_RF.fit(X_train, y_train)\n"
   ]
  },
  {
   "cell_type": "code",
   "execution_count": 51,
   "id": "f912f13c",
   "metadata": {},
   "outputs": [
    {
     "data": {
      "text/plain": [
       "21"
      ]
     },
     "execution_count": 51,
     "metadata": {},
     "output_type": "execute_result"
    }
   ],
   "source": [
    "selector_RF.n_features_"
   ]
  },
  {
   "cell_type": "code",
   "execution_count": 52,
   "id": "caf161fb",
   "metadata": {},
   "outputs": [
    {
     "data": {
      "text/plain": [
       "array([30,  1,  1,  1, 10,  1, 16, 17,  1, 23, 11, 37, 18, 33, 38,  1,  1,\n",
       "        1,  1,  1,  1,  1, 39, 36, 42,  1,  1, 12,  1, 31, 27, 26,  1,  2,\n",
       "       29, 28, 32,  4,  7,  9, 13, 21, 15, 19, 20, 43, 44, 25,  1,  8, 35,\n",
       "       40,  5,  1,  1,  1,  3,  6, 14, 41, 24, 34, 22,  1])"
      ]
     },
     "execution_count": 52,
     "metadata": {},
     "output_type": "execute_result"
    }
   ],
   "source": [
    "selector_RF.ranking_"
   ]
  },
  {
   "cell_type": "code",
   "execution_count": 53,
   "id": "7eb430c9",
   "metadata": {},
   "outputs": [
    {
     "data": {
      "text/html": [
       "<div>\n",
       "<style scoped>\n",
       "    .dataframe tbody tr th:only-of-type {\n",
       "        vertical-align: middle;\n",
       "    }\n",
       "\n",
       "    .dataframe tbody tr th {\n",
       "        vertical-align: top;\n",
       "    }\n",
       "\n",
       "    .dataframe thead th {\n",
       "        text-align: right;\n",
       "    }\n",
       "</style>\n",
       "<table border=\"1\" class=\"dataframe\">\n",
       "  <thead>\n",
       "    <tr style=\"text-align: right;\">\n",
       "      <th></th>\n",
       "      <th>Feature</th>\n",
       "      <th>Rank</th>\n",
       "    </tr>\n",
       "  </thead>\n",
       "  <tbody>\n",
       "    <tr>\n",
       "      <th>1</th>\n",
       "      <td>Networth</td>\n",
       "      <td>1</td>\n",
       "    </tr>\n",
       "    <tr>\n",
       "      <th>2</th>\n",
       "      <td>Capital_Employed</td>\n",
       "      <td>1</td>\n",
       "    </tr>\n",
       "    <tr>\n",
       "      <th>3</th>\n",
       "      <td>Total_Debt</td>\n",
       "      <td>1</td>\n",
       "    </tr>\n",
       "    <tr>\n",
       "      <th>5</th>\n",
       "      <td>Net_Working_Capital_</td>\n",
       "      <td>1</td>\n",
       "    </tr>\n",
       "    <tr>\n",
       "      <th>8</th>\n",
       "      <td>Total_Assets/Liabilities_</td>\n",
       "      <td>1</td>\n",
       "    </tr>\n",
       "    <tr>\n",
       "      <th>15</th>\n",
       "      <td>PBIDT</td>\n",
       "      <td>1</td>\n",
       "    </tr>\n",
       "    <tr>\n",
       "      <th>16</th>\n",
       "      <td>PBDT</td>\n",
       "      <td>1</td>\n",
       "    </tr>\n",
       "    <tr>\n",
       "      <th>17</th>\n",
       "      <td>PBIT</td>\n",
       "      <td>1</td>\n",
       "    </tr>\n",
       "    <tr>\n",
       "      <th>18</th>\n",
       "      <td>PBT</td>\n",
       "      <td>1</td>\n",
       "    </tr>\n",
       "    <tr>\n",
       "      <th>19</th>\n",
       "      <td>PAT</td>\n",
       "      <td>1</td>\n",
       "    </tr>\n",
       "    <tr>\n",
       "      <th>20</th>\n",
       "      <td>Adjusted_PAT</td>\n",
       "      <td>1</td>\n",
       "    </tr>\n",
       "    <tr>\n",
       "      <th>21</th>\n",
       "      <td>CP</td>\n",
       "      <td>1</td>\n",
       "    </tr>\n",
       "    <tr>\n",
       "      <th>25</th>\n",
       "      <td>Book_Value_Unit_Curr</td>\n",
       "      <td>1</td>\n",
       "    </tr>\n",
       "    <tr>\n",
       "      <th>26</th>\n",
       "      <td>Book_Value_Adj._Unit_Curr</td>\n",
       "      <td>1</td>\n",
       "    </tr>\n",
       "    <tr>\n",
       "      <th>28</th>\n",
       "      <td>CEPS_annualised_Unit_Curr</td>\n",
       "      <td>1</td>\n",
       "    </tr>\n",
       "    <tr>\n",
       "      <th>32</th>\n",
       "      <td>ROG_Net_Worth_perc</td>\n",
       "      <td>1</td>\n",
       "    </tr>\n",
       "    <tr>\n",
       "      <th>48</th>\n",
       "      <td>Current_Ratio[Latest]</td>\n",
       "      <td>1</td>\n",
       "    </tr>\n",
       "    <tr>\n",
       "      <th>53</th>\n",
       "      <td>Interest_Cover_Ratio[Latest]</td>\n",
       "      <td>1</td>\n",
       "    </tr>\n",
       "    <tr>\n",
       "      <th>54</th>\n",
       "      <td>PBIDTM_perc[Latest]</td>\n",
       "      <td>1</td>\n",
       "    </tr>\n",
       "    <tr>\n",
       "      <th>55</th>\n",
       "      <td>PBITM_perc[Latest]</td>\n",
       "      <td>1</td>\n",
       "    </tr>\n",
       "    <tr>\n",
       "      <th>63</th>\n",
       "      <td>Value_of_Output/Gross_Block</td>\n",
       "      <td>1</td>\n",
       "    </tr>\n",
       "  </tbody>\n",
       "</table>\n",
       "</div>"
      ],
      "text/plain": [
       "                         Feature  Rank\n",
       "1                       Networth     1\n",
       "2               Capital_Employed     1\n",
       "3                     Total_Debt     1\n",
       "5           Net_Working_Capital_     1\n",
       "8      Total_Assets/Liabilities_     1\n",
       "15                         PBIDT     1\n",
       "16                          PBDT     1\n",
       "17                          PBIT     1\n",
       "18                           PBT     1\n",
       "19                           PAT     1\n",
       "20                  Adjusted_PAT     1\n",
       "21                            CP     1\n",
       "25          Book_Value_Unit_Curr     1\n",
       "26     Book_Value_Adj._Unit_Curr     1\n",
       "28     CEPS_annualised_Unit_Curr     1\n",
       "32            ROG_Net_Worth_perc     1\n",
       "48         Current_Ratio[Latest]     1\n",
       "53  Interest_Cover_Ratio[Latest]     1\n",
       "54           PBIDTM_perc[Latest]     1\n",
       "55            PBITM_perc[Latest]     1\n",
       "63   Value_of_Output/Gross_Block     1"
      ]
     },
     "execution_count": 53,
     "metadata": {},
     "output_type": "execute_result"
    }
   ],
   "source": [
    "df = pd.DataFrame({'Feature':X.columns,'Rank': selector_RF.ranking_})\n",
    "df[df['Rank'] == 1]"
   ]
  },
  {
   "cell_type": "code",
   "execution_count": 54,
   "id": "53694390",
   "metadata": {},
   "outputs": [],
   "source": [
    "pred_train_RF = selector_RF.predict(X_train)\n",
    "pred_test_RF = selector_RF.predict(X_test)"
   ]
  },
  {
   "cell_type": "code",
   "execution_count": 55,
   "id": "3a614343",
   "metadata": {},
   "outputs": [
    {
     "data": {
      "image/png": "[encoded data removed]",
      "text/plain": [
       "<Figure size 432x288 with 2 Axes>"
      ]
     },
     "metadata": {
      "needs_background": "light"
     },
     "output_type": "display_data"
    }
   ],
   "source": [
    "ax=sns.heatmap(metrics.confusion_matrix(y_train, pred_train_RF),annot=True, fmt='d')\n",
    "plt.xlabel('Predicted Label')\n",
    "plt.ylabel('Actual Label')\n",
    "plt.title('Random Forest_Confusion Matrix on Train Data')\n",
    "plt.show()\n"
   ]
  },
  {
   "cell_type": "code",
   "execution_count": 56,
   "id": "59ff2ae9",
   "metadata": {},
   "outputs": [
    {
     "name": "stdout",
     "output_type": "stream",
     "text": [
      "              precision    recall  f1-score   support\n",
      "\n",
      "           0       0.99      0.99      0.99      2142\n",
      "           1       0.91      0.88      0.89       260\n",
      "\n",
      "    accuracy                           0.98      2402\n",
      "   macro avg       0.95      0.94      0.94      2402\n",
      "weighted avg       0.98      0.98      0.98      2402\n",
      "\n"
     ]
    }
   ],
   "source": [
    "print(classification_report(y_train, pred_train_RF))"
   ]
  },
  {
   "cell_type": "code",
   "execution_count": 57,
   "id": "59d96719",
   "metadata": {},
   "outputs": [
    {
     "name": "stdout",
     "output_type": "stream",
     "text": [
      "Area under Curve is 0.9961322990734754\n"
     ]
    },
    {
     "data": {
      "text/html": [
       "<div>\n",
       "<style scoped>\n",
       "    .dataframe tbody tr th:only-of-type {\n",
       "        vertical-align: middle;\n",
       "    }\n",
       "\n",
       "    .dataframe tbody tr th {\n",
       "        vertical-align: top;\n",
       "    }\n",
       "\n",
       "    .dataframe thead th {\n",
       "        text-align: right;\n",
       "    }\n",
       "</style>\n",
       "<table border=\"1\" class=\"dataframe\">\n",
       "  <thead>\n",
       "    <tr style=\"text-align: right;\">\n",
       "      <th></th>\n",
       "      <th>0</th>\n",
       "      <th>1</th>\n",
       "    </tr>\n",
       "  </thead>\n",
       "  <tbody>\n",
       "    <tr>\n",
       "      <th>0</th>\n",
       "      <td>0.17</td>\n",
       "      <td>0.83</td>\n",
       "    </tr>\n",
       "    <tr>\n",
       "      <th>1</th>\n",
       "      <td>1.00</td>\n",
       "      <td>0.00</td>\n",
       "    </tr>\n",
       "    <tr>\n",
       "      <th>2</th>\n",
       "      <td>0.99</td>\n",
       "      <td>0.01</td>\n",
       "    </tr>\n",
       "    <tr>\n",
       "      <th>3</th>\n",
       "      <td>0.94</td>\n",
       "      <td>0.06</td>\n",
       "    </tr>\n",
       "    <tr>\n",
       "      <th>4</th>\n",
       "      <td>1.00</td>\n",
       "      <td>0.00</td>\n",
       "    </tr>\n",
       "  </tbody>\n",
       "</table>\n",
       "</div>"
      ],
      "text/plain": [
       "     0    1\n",
       "0 0.17 0.83\n",
       "1 1.00 0.00\n",
       "2 0.99 0.01\n",
       "3 0.94 0.06\n",
       "4 1.00 0.00"
      ]
     },
     "execution_count": 57,
     "metadata": {},
     "output_type": "execute_result"
    },
    {
     "data": {
      "image/png": "[encoded data removed]",
      "text/plain": [
       "<Figure size 432x288 with 1 Axes>"
      ]
     },
     "metadata": {
      "needs_background": "light"
     },
     "output_type": "display_data"
    }
   ],
   "source": [
    "rf_test_fpr, rf_test_tpr,_=roc_curve(y_train,selector_RF.predict_proba(X_train)[:,1])\n",
    "plt.plot(rf_test_fpr,rf_test_tpr,color='orange')\n",
    "plt.plot([0, 1], [0, 1], linestyle='--')\n",
    "plt.xlabel(\"False Positive Rate\")\n",
    "plt.ylabel(\"True Positive Rate\")\n",
    "plt.title(\"Random Forest AUC-ROC for Train Data \")\n",
    "rf_test_auc=roc_auc_score(y_train,selector_RF.predict_proba(X_train)[:,1])\n",
    "print('Area under Curve is', rf_test_auc)\n",
    "\n",
    "ytest_predict_rfcl\n",
    "ytest_predict_prob_rfcl=best_grid_rfcl.predict_proba(X_test)\n",
    "ytest_predict_prob_rfcl\n",
    "pd.DataFrame(ytest_predict_prob_rfcl).head()"
   ]
  },
  {
   "cell_type": "code",
   "execution_count": 58,
   "id": "335fff71",
   "metadata": {},
   "outputs": [
    {
     "data": {
      "text/html": [
       "<div>\n",
       "<style scoped>\n",
       "    .dataframe tbody tr th:only-of-type {\n",
       "        vertical-align: middle;\n",
       "    }\n",
       "\n",
       "    .dataframe tbody tr th {\n",
       "        vertical-align: top;\n",
       "    }\n",
       "\n",
       "    .dataframe thead th {\n",
       "        text-align: right;\n",
       "    }\n",
       "</style>\n",
       "<table border=\"1\" class=\"dataframe\">\n",
       "  <thead>\n",
       "    <tr style=\"text-align: right;\">\n",
       "      <th></th>\n",
       "      <th>0</th>\n",
       "      <th>1</th>\n",
       "    </tr>\n",
       "  </thead>\n",
       "  <tbody>\n",
       "    <tr>\n",
       "      <th>0</th>\n",
       "      <td>0.07</td>\n",
       "      <td>0.93</td>\n",
       "    </tr>\n",
       "    <tr>\n",
       "      <th>1</th>\n",
       "      <td>1.00</td>\n",
       "      <td>0.00</td>\n",
       "    </tr>\n",
       "    <tr>\n",
       "      <th>2</th>\n",
       "      <td>1.00</td>\n",
       "      <td>0.00</td>\n",
       "    </tr>\n",
       "    <tr>\n",
       "      <th>3</th>\n",
       "      <td>0.99</td>\n",
       "      <td>0.01</td>\n",
       "    </tr>\n",
       "    <tr>\n",
       "      <th>4</th>\n",
       "      <td>1.00</td>\n",
       "      <td>0.00</td>\n",
       "    </tr>\n",
       "  </tbody>\n",
       "</table>\n",
       "</div>"
      ],
      "text/plain": [
       "     0    1\n",
       "0 0.07 0.93\n",
       "1 1.00 0.00\n",
       "2 1.00 0.00\n",
       "3 0.99 0.01\n",
       "4 1.00 0.00"
      ]
     },
     "execution_count": 58,
     "metadata": {},
     "output_type": "execute_result"
    }
   ],
   "source": [
    "pred_test_RF\n",
    "pred_test_prob_rfcl=selector_RF.predict_proba(X_test)\n",
    "pred_test_prob_rfcl\n",
    "pd.DataFrame(pred_test_prob_rfcl).head()"
   ]
  },
  {
   "cell_type": "code",
   "execution_count": 59,
   "id": "0c251dca",
   "metadata": {},
   "outputs": [
    {
     "data": {
      "image/png": "[encoded data removed]",
      "text/plain": [
       "<Figure size 432x288 with 2 Axes>"
      ]
     },
     "metadata": {
      "needs_background": "light"
     },
     "output_type": "display_data"
    }
   ],
   "source": [
    "ax=sns.heatmap(metrics.confusion_matrix(y_test, pred_test_RF),annot=True, fmt='d')\n",
    "plt.xlabel('Predicted Label')\n",
    "plt.ylabel('Actual Label')\n",
    "plt.title('Random Forest_Confusion Matrix on Test Data')\n",
    "plt.show()"
   ]
  },
  {
   "cell_type": "code",
   "execution_count": 60,
   "id": "d3812f21",
   "metadata": {},
   "outputs": [
    {
     "name": "stdout",
     "output_type": "stream",
     "text": [
      "              precision    recall  f1-score   support\n",
      "\n",
      "           0       0.98      1.00      0.99      1056\n",
      "           1       0.96      0.87      0.91       128\n",
      "\n",
      "    accuracy                           0.98      1184\n",
      "   macro avg       0.97      0.93      0.95      1184\n",
      "weighted avg       0.98      0.98      0.98      1184\n",
      "\n"
     ]
    }
   ],
   "source": [
    "print(classification_report(y_test, pred_test_RF))"
   ]
  },
  {
   "cell_type": "code",
   "execution_count": 61,
   "id": "6b8cfdb7",
   "metadata": {},
   "outputs": [
    {
     "name": "stdout",
     "output_type": "stream",
     "text": [
      "Area under Curve is 0.9903601444128788\n"
     ]
    },
    {
     "data": {
      "image/png": "[encoded data removed]",
      "text/plain": [
       "<Figure size 432x288 with 1 Axes>"
      ]
     },
     "metadata": {
      "needs_background": "light"
     },
     "output_type": "display_data"
    }
   ],
   "source": [
    "rf_test_fpr, rf_test_tpr,_=roc_curve(y_test,selector_RF.predict_proba(X_test)[:,1])\n",
    "plt.plot(rf_test_fpr,rf_test_tpr,color='pink')\n",
    "plt.plot([0, 1], [0, 1], linestyle='-')\n",
    "plt.xlabel(\"False Positive Rate\")\n",
    "plt.ylabel(\"True Positive Rate\")\n",
    "plt.title(\"Random Forest AUC-ROC for Test Data \")\n",
    "rf_test_auc=roc_auc_score(y_test,selector_RF.predict_proba(X_test)[:,1])\n",
    "print('Area under Curve is', rf_test_auc)"
   ]
  },
  {
   "cell_type": "code",
   "execution_count": 64,
   "id": "723d924c",
   "metadata": {},
   "outputs": [],
   "source": [
    "LDA_model=LinearDiscriminantAnalysis()\n",
    "selector_LDA = RFE(estimator = LDA_model, n_features_to_select=21, step=1)"
   ]
  },
  {
   "cell_type": "code",
   "execution_count": 65,
   "id": "d9dd9e31",
   "metadata": {},
   "outputs": [],
   "source": [
    "selector_LDA = selector_LDA.fit(X_train, y_train)\n"
   ]
  },
  {
   "cell_type": "code",
   "execution_count": 66,
   "id": "814885a8",
   "metadata": {},
   "outputs": [
    {
     "data": {
      "text/plain": [
       "21"
      ]
     },
     "execution_count": 66,
     "metadata": {},
     "output_type": "execute_result"
    }
   ],
   "source": [
    "selector_LDA.n_features_"
   ]
  },
  {
   "cell_type": "code",
   "execution_count": 67,
   "id": "ffdad0e6",
   "metadata": {},
   "outputs": [
    {
     "data": {
      "text/plain": [
       "array([38,  3, 36, 29, 26, 24, 15, 12, 11, 27, 21,  1, 22, 20,  2,  4, 32,\n",
       "       25,  7,  1,  1,  1,  1,  1, 42, 16,  1, 39,  1, 17, 23,  6,  1, 13,\n",
       "       18,  1,  1,  8,  5, 31, 33, 37, 34, 35, 40, 43, 44, 41,  1,  1,  1,\n",
       "       14,  1,  1,  1,  1, 10,  1,  1, 19, 28, 30,  1,  9])"
      ]
     },
     "execution_count": 67,
     "metadata": {},
     "output_type": "execute_result"
    }
   ],
   "source": [
    "selector_LDA.ranking_"
   ]
  },
  {
   "cell_type": "code",
   "execution_count": 68,
   "id": "70c9cf12",
   "metadata": {},
   "outputs": [
    {
     "data": {
      "text/html": [
       "<div>\n",
       "<style scoped>\n",
       "    .dataframe tbody tr th:only-of-type {\n",
       "        vertical-align: middle;\n",
       "    }\n",
       "\n",
       "    .dataframe tbody tr th {\n",
       "        vertical-align: top;\n",
       "    }\n",
       "\n",
       "    .dataframe thead th {\n",
       "        text-align: right;\n",
       "    }\n",
       "</style>\n",
       "<table border=\"1\" class=\"dataframe\">\n",
       "  <thead>\n",
       "    <tr style=\"text-align: right;\">\n",
       "      <th></th>\n",
       "      <th>Feature</th>\n",
       "      <th>Rank</th>\n",
       "    </tr>\n",
       "  </thead>\n",
       "  <tbody>\n",
       "    <tr>\n",
       "      <th>11</th>\n",
       "      <td>Other_Income</td>\n",
       "      <td>1</td>\n",
       "    </tr>\n",
       "    <tr>\n",
       "      <th>19</th>\n",
       "      <td>PAT</td>\n",
       "      <td>1</td>\n",
       "    </tr>\n",
       "    <tr>\n",
       "      <th>20</th>\n",
       "      <td>Adjusted_PAT</td>\n",
       "      <td>1</td>\n",
       "    </tr>\n",
       "    <tr>\n",
       "      <th>21</th>\n",
       "      <td>CP</td>\n",
       "      <td>1</td>\n",
       "    </tr>\n",
       "    <tr>\n",
       "      <th>22</th>\n",
       "      <td>Revenue_earnings_in_forex</td>\n",
       "      <td>1</td>\n",
       "    </tr>\n",
       "    <tr>\n",
       "      <th>23</th>\n",
       "      <td>Revenue_expenses_in_forex</td>\n",
       "      <td>1</td>\n",
       "    </tr>\n",
       "    <tr>\n",
       "      <th>26</th>\n",
       "      <td>Book_Value_Adj._Unit_Curr</td>\n",
       "      <td>1</td>\n",
       "    </tr>\n",
       "    <tr>\n",
       "      <th>28</th>\n",
       "      <td>CEPS_annualised_Unit_Curr</td>\n",
       "      <td>1</td>\n",
       "    </tr>\n",
       "    <tr>\n",
       "      <th>32</th>\n",
       "      <td>ROG_Net_Worth_perc</td>\n",
       "      <td>1</td>\n",
       "    </tr>\n",
       "    <tr>\n",
       "      <th>35</th>\n",
       "      <td>ROG_Gross_Sales_perc</td>\n",
       "      <td>1</td>\n",
       "    </tr>\n",
       "    <tr>\n",
       "      <th>36</th>\n",
       "      <td>ROG_Net_Sales_perc</td>\n",
       "      <td>1</td>\n",
       "    </tr>\n",
       "    <tr>\n",
       "      <th>48</th>\n",
       "      <td>Current_Ratio[Latest]</td>\n",
       "      <td>1</td>\n",
       "    </tr>\n",
       "    <tr>\n",
       "      <th>49</th>\n",
       "      <td>Fixed_Assets_Ratio[Latest]</td>\n",
       "      <td>1</td>\n",
       "    </tr>\n",
       "    <tr>\n",
       "      <th>50</th>\n",
       "      <td>Inventory_Ratio[Latest]</td>\n",
       "      <td>1</td>\n",
       "    </tr>\n",
       "    <tr>\n",
       "      <th>52</th>\n",
       "      <td>Total_Asset_Turnover_Ratio[Latest]</td>\n",
       "      <td>1</td>\n",
       "    </tr>\n",
       "    <tr>\n",
       "      <th>53</th>\n",
       "      <td>Interest_Cover_Ratio[Latest]</td>\n",
       "      <td>1</td>\n",
       "    </tr>\n",
       "    <tr>\n",
       "      <th>54</th>\n",
       "      <td>PBIDTM_perc[Latest]</td>\n",
       "      <td>1</td>\n",
       "    </tr>\n",
       "    <tr>\n",
       "      <th>55</th>\n",
       "      <td>PBITM_perc[Latest]</td>\n",
       "      <td>1</td>\n",
       "    </tr>\n",
       "    <tr>\n",
       "      <th>57</th>\n",
       "      <td>CPM_perc[Latest]</td>\n",
       "      <td>1</td>\n",
       "    </tr>\n",
       "    <tr>\n",
       "      <th>58</th>\n",
       "      <td>APATM_perc[Latest]</td>\n",
       "      <td>1</td>\n",
       "    </tr>\n",
       "    <tr>\n",
       "      <th>62</th>\n",
       "      <td>Value_of_Output/Total_Assets</td>\n",
       "      <td>1</td>\n",
       "    </tr>\n",
       "  </tbody>\n",
       "</table>\n",
       "</div>"
      ],
      "text/plain": [
       "                               Feature  Rank\n",
       "11                        Other_Income     1\n",
       "19                                 PAT     1\n",
       "20                        Adjusted_PAT     1\n",
       "21                                  CP     1\n",
       "22           Revenue_earnings_in_forex     1\n",
       "23           Revenue_expenses_in_forex     1\n",
       "26           Book_Value_Adj._Unit_Curr     1\n",
       "28           CEPS_annualised_Unit_Curr     1\n",
       "32                  ROG_Net_Worth_perc     1\n",
       "35                ROG_Gross_Sales_perc     1\n",
       "36                  ROG_Net_Sales_perc     1\n",
       "48               Current_Ratio[Latest]     1\n",
       "49          Fixed_Assets_Ratio[Latest]     1\n",
       "50             Inventory_Ratio[Latest]     1\n",
       "52  Total_Asset_Turnover_Ratio[Latest]     1\n",
       "53        Interest_Cover_Ratio[Latest]     1\n",
       "54                 PBIDTM_perc[Latest]     1\n",
       "55                  PBITM_perc[Latest]     1\n",
       "57                    CPM_perc[Latest]     1\n",
       "58                  APATM_perc[Latest]     1\n",
       "62        Value_of_Output/Total_Assets     1"
      ]
     },
     "execution_count": 68,
     "metadata": {},
     "output_type": "execute_result"
    }
   ],
   "source": [
    "df = pd.DataFrame({'Feature': X.columns, \n",
    "                   'Rank': selector_LDA.ranking_})\n",
    "df[df['Rank'] == 1]"
   ]
  },
  {
   "cell_type": "code",
   "execution_count": 69,
   "id": "9ee8cbef",
   "metadata": {},
   "outputs": [],
   "source": [
    "pred_train = selector_LDA.predict(X_train)\n",
    "pred_test = selector_LDA.predict(X_test)"
   ]
  },
  {
   "cell_type": "code",
   "execution_count": 70,
   "id": "1dd86623",
   "metadata": {},
   "outputs": [
    {
     "data": {
      "image/png": "[encoded data removed]",
      "text/plain": [
       "<Figure size 432x288 with 2 Axes>"
      ]
     },
     "metadata": {
      "needs_background": "light"
     },
     "output_type": "display_data"
    }
   ],
   "source": [
    "ax=sns.heatmap(metrics.confusion_matrix(y_train, pred_train),annot=True, fmt='d')\n",
    "plt.xlabel('Predicted')\n",
    "plt.ylabel('Actual')\n",
    "plt.title('LDA Confusion Matrix on Train Data')\n",
    "plt.show()"
   ]
  },
  {
   "cell_type": "code",
   "execution_count": 79,
   "id": "1509eea6",
   "metadata": {
    "scrolled": true
   },
   "outputs": [
    {
     "data": {
      "image/png": "[encoded data removed]",
      "text/plain": [
       "<Figure size 432x288 with 2 Axes>"
      ]
     },
     "metadata": {
      "needs_background": "light"
     },
     "output_type": "display_data"
    }
   ],
   "source": [
    "ax=sns.heatmap(metrics.confusion_matrix(y_test, pred_test),annot=True, fmt='d',)\n",
    "plt.xlabel('Predicted Label')\n",
    "plt.ylabel('Actual Label')\n",
    "plt.title('LDA_Confusion Matrix on Test Data')\n",
    "plt.show()"
   ]
  },
  {
   "cell_type": "code",
   "execution_count": 71,
   "id": "d8a24e69",
   "metadata": {},
   "outputs": [
    {
     "name": "stdout",
     "output_type": "stream",
     "text": [
      "              precision    recall  f1-score   support\n",
      "\n",
      "           0       0.95      0.98      0.96      2142\n",
      "           1       0.76      0.60      0.67       260\n",
      "\n",
      "    accuracy                           0.94      2402\n",
      "   macro avg       0.86      0.79      0.82      2402\n",
      "weighted avg       0.93      0.94      0.93      2402\n",
      "\n"
     ]
    }
   ],
   "source": [
    "print(classification_report(y_train, pred_train))"
   ]
  },
  {
   "cell_type": "code",
   "execution_count": null,
   "id": "091c58f3",
   "metadata": {},
   "outputs": [],
   "source": []
  },
  {
   "cell_type": "code",
   "execution_count": 78,
   "id": "57a7234f",
   "metadata": {},
   "outputs": [
    {
     "name": "stdout",
     "output_type": "stream",
     "text": [
      "Area under Curve is 0.946468074409251\n"
     ]
    },
    {
     "data": {
      "image/png": "[encoded data removed]",
      "text/plain": [
       "<Figure size 432x288 with 1 Axes>"
      ]
     },
     "metadata": {
      "needs_background": "light"
     },
     "output_type": "display_data"
    }
   ],
   "source": [
    "rf_test_fpr, rf_test_tpr,_=roc_curve(y_train,selector_LDA.predict_proba(X_train)[:,1])\n",
    "plt.plot(rf_test_fpr,rf_test_tpr,color='green')\n",
    "plt.plot([0, 1], [0, 1], linestyle='-')\n",
    "plt.xlabel(\"False Positive Rate (FPR)\")\n",
    "plt.ylabel(\"True Positive Rate (FPR)\")\n",
    "plt.title(\"LDA AUC-ROC for Train Data \")\n",
    "rf_test_auc=roc_auc_score(y_train,selector_LDA.predict_proba(X_train)[:,1])\n",
    "print('Area under Curve is', rf_test_auc)"
   ]
  },
  {
   "cell_type": "code",
   "execution_count": null,
   "id": "1e02854c",
   "metadata": {},
   "outputs": [],
   "source": []
  },
  {
   "cell_type": "code",
   "execution_count": 76,
   "id": "b9846d22",
   "metadata": {},
   "outputs": [
    {
     "name": "stdout",
     "output_type": "stream",
     "text": [
      "              precision    recall  f1-score   support\n",
      "\n",
      "           0       0.95      0.97      0.96      1056\n",
      "           1       0.74      0.61      0.67       128\n",
      "\n",
      "    accuracy                           0.93      1184\n",
      "   macro avg       0.85      0.79      0.82      1184\n",
      "weighted avg       0.93      0.93      0.93      1184\n",
      "\n"
     ]
    }
   ],
   "source": [
    "print(classification_report(y_test, pred_test))"
   ]
  },
  {
   "cell_type": "code",
   "execution_count": 77,
   "id": "c5167ece",
   "metadata": {},
   "outputs": [
    {
     "name": "stdout",
     "output_type": "stream",
     "text": [
      "Area under Curve is 0.9504616477272727\n"
     ]
    },
    {
     "data": {
      "image/png": "[encoded data removed]",
      "text/plain": [
       "<Figure size 432x288 with 1 Axes>"
      ]
     },
     "metadata": {
      "needs_background": "light"
     },
     "output_type": "display_data"
    }
   ],
   "source": [
    "rf_test_fpr, rf_test_tpr,_=roc_curve(y_test,selector_LDA.predict_proba(X_test)[:,1])\n",
    "plt.plot(rf_test_fpr,rf_test_tpr,color='green')\n",
    "plt.plot([0, 1], [0, 1], linestyle='--')\n",
    "plt.xlabel(\"False Positive Rate (FPR)\")\n",
    "plt.ylabel(\"True Positive Rate (FPR)\")\n",
    "plt.title(\"LDA AUC-ROC for Test Data \")\n",
    "rf_test_auc=roc_auc_score(y_test,selector_LDA.predict_proba(X_test)[:,1])\n",
    "print('Area under Curve is', rf_test_auc)"
   ]
  },
  {
   "cell_type": "code",
   "execution_count": null,
   "id": "85c1bf4a",
   "metadata": {},
   "outputs": [],
   "source": []
  }
 ],
 "metadata": {
  "kernelspec": {
   "display_name": "Python 3 (ipykernel)",
   "language": "python",
   "name": "python3"
  },
  "language_info": {
   "codemirror_mode": {
    "name": "ipython",
    "version": 3
   },
   "file_extension": ".py",
   "mimetype": "text/x-python",
   "name": "python",
   "nbconvert_exporter": "python",
   "pygments_lexer": "ipython3",
   "version": "3.9.7"
  }
 },
 "nbformat": 4,
 "nbformat_minor": 5
}
